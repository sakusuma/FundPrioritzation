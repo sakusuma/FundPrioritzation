{
 "cells": [
  {
   "cell_type": "markdown",
   "metadata": {},
   "source": [
    "## HELP International Clustering of Countries Exercise"
   ]
  },
  {
   "cell_type": "code",
   "execution_count": 1,
   "metadata": {},
   "outputs": [],
   "source": [
    "#import all the necessary libraries\n",
    "\n",
    "import pandas as pd\n",
    "import numpy as np\n",
    "\n",
    "# For Visualisation\n",
    "import matplotlib.pyplot as plt\n",
    "\n",
    "import seaborn as sns\n",
    "%matplotlib inline\n",
    "\n",
    "# To Scale our data\n",
    "from sklearn.preprocessing import scale \n",
    "from sklearn.preprocessing import StandardScaler\n",
    "\n",
    "#to perform the PCA\n",
    "from sklearn.decomposition import PCA\n",
    "from sklearn.decomposition import IncrementalPCA\n",
    "\n",
    "# To perform the hopkins Statistics\n",
    "from sklearn.neighbors import NearestNeighbors\n",
    "from random import sample\n",
    "from numpy.random import uniform\n",
    "from math import isnan\n",
    "\n",
    "#To caluculate the Silhoutte score \n",
    "from sklearn.metrics import silhouette_score\n",
    "\n",
    "# To perform KMeans clustering \n",
    "from sklearn.cluster import KMeans\n",
    "\n",
    "\n",
    "# for the Heirarchial Clustering technique\n",
    "from scipy.cluster.hierarchy import linkage\n",
    "from scipy.cluster.hierarchy import dendrogram\n",
    "from scipy.cluster.hierarchy import cut_tree"
   ]
  },
  {
   "cell_type": "code",
   "execution_count": 2,
   "metadata": {},
   "outputs": [
    {
     "data": {
      "text/html": [
       "<div>\n",
       "<style scoped>\n",
       "    .dataframe tbody tr th:only-of-type {\n",
       "        vertical-align: middle;\n",
       "    }\n",
       "\n",
       "    .dataframe tbody tr th {\n",
       "        vertical-align: top;\n",
       "    }\n",
       "\n",
       "    .dataframe thead th {\n",
       "        text-align: right;\n",
       "    }\n",
       "</style>\n",
       "<table border=\"1\" class=\"dataframe\">\n",
       "  <thead>\n",
       "    <tr style=\"text-align: right;\">\n",
       "      <th></th>\n",
       "      <th>country</th>\n",
       "      <th>child_mort</th>\n",
       "      <th>exports</th>\n",
       "      <th>health</th>\n",
       "      <th>imports</th>\n",
       "      <th>income</th>\n",
       "      <th>inflation</th>\n",
       "      <th>life_expec</th>\n",
       "      <th>total_fer</th>\n",
       "      <th>gdpp</th>\n",
       "    </tr>\n",
       "  </thead>\n",
       "  <tbody>\n",
       "    <tr>\n",
       "      <th>0</th>\n",
       "      <td>Afghanistan</td>\n",
       "      <td>90.2</td>\n",
       "      <td>10.0</td>\n",
       "      <td>7.58</td>\n",
       "      <td>44.9</td>\n",
       "      <td>1610</td>\n",
       "      <td>9.44</td>\n",
       "      <td>56.2</td>\n",
       "      <td>5.82</td>\n",
       "      <td>553</td>\n",
       "    </tr>\n",
       "    <tr>\n",
       "      <th>1</th>\n",
       "      <td>Albania</td>\n",
       "      <td>16.6</td>\n",
       "      <td>28.0</td>\n",
       "      <td>6.55</td>\n",
       "      <td>48.6</td>\n",
       "      <td>9930</td>\n",
       "      <td>4.49</td>\n",
       "      <td>76.3</td>\n",
       "      <td>1.65</td>\n",
       "      <td>4090</td>\n",
       "    </tr>\n",
       "    <tr>\n",
       "      <th>2</th>\n",
       "      <td>Algeria</td>\n",
       "      <td>27.3</td>\n",
       "      <td>38.4</td>\n",
       "      <td>4.17</td>\n",
       "      <td>31.4</td>\n",
       "      <td>12900</td>\n",
       "      <td>16.10</td>\n",
       "      <td>76.5</td>\n",
       "      <td>2.89</td>\n",
       "      <td>4460</td>\n",
       "    </tr>\n",
       "    <tr>\n",
       "      <th>3</th>\n",
       "      <td>Angola</td>\n",
       "      <td>119.0</td>\n",
       "      <td>62.3</td>\n",
       "      <td>2.85</td>\n",
       "      <td>42.9</td>\n",
       "      <td>5900</td>\n",
       "      <td>22.40</td>\n",
       "      <td>60.1</td>\n",
       "      <td>6.16</td>\n",
       "      <td>3530</td>\n",
       "    </tr>\n",
       "    <tr>\n",
       "      <th>4</th>\n",
       "      <td>Antigua and Barbuda</td>\n",
       "      <td>10.3</td>\n",
       "      <td>45.5</td>\n",
       "      <td>6.03</td>\n",
       "      <td>58.9</td>\n",
       "      <td>19100</td>\n",
       "      <td>1.44</td>\n",
       "      <td>76.8</td>\n",
       "      <td>2.13</td>\n",
       "      <td>12200</td>\n",
       "    </tr>\n",
       "  </tbody>\n",
       "</table>\n",
       "</div>"
      ],
      "text/plain": [
       "               country  child_mort  exports  health  imports  income  \\\n",
       "0          Afghanistan        90.2     10.0    7.58     44.9    1610   \n",
       "1              Albania        16.6     28.0    6.55     48.6    9930   \n",
       "2              Algeria        27.3     38.4    4.17     31.4   12900   \n",
       "3               Angola       119.0     62.3    2.85     42.9    5900   \n",
       "4  Antigua and Barbuda        10.3     45.5    6.03     58.9   19100   \n",
       "\n",
       "   inflation  life_expec  total_fer   gdpp  \n",
       "0       9.44        56.2       5.82    553  \n",
       "1       4.49        76.3       1.65   4090  \n",
       "2      16.10        76.5       2.89   4460  \n",
       "3      22.40        60.1       6.16   3530  \n",
       "4       1.44        76.8       2.13  12200  "
      ]
     },
     "execution_count": 2,
     "metadata": {},
     "output_type": "execute_result"
    }
   ],
   "source": [
    "#Reading the data into the dataframe data\n",
    "data = pd.read_csv('Country-data.csv')\n",
    "data.head()"
   ]
  },
  {
   "cell_type": "code",
   "execution_count": 3,
   "metadata": {},
   "outputs": [
    {
     "data": {
      "text/plain": [
       "(167, 10)"
      ]
     },
     "execution_count": 3,
     "metadata": {},
     "output_type": "execute_result"
    }
   ],
   "source": [
    "#Checking the shape of the dataset\n",
    "data.shape"
   ]
  },
  {
   "cell_type": "code",
   "execution_count": 4,
   "metadata": {},
   "outputs": [
    {
     "data": {
      "text/html": [
       "<div>\n",
       "<style scoped>\n",
       "    .dataframe tbody tr th:only-of-type {\n",
       "        vertical-align: middle;\n",
       "    }\n",
       "\n",
       "    .dataframe tbody tr th {\n",
       "        vertical-align: top;\n",
       "    }\n",
       "\n",
       "    .dataframe thead th {\n",
       "        text-align: right;\n",
       "    }\n",
       "</style>\n",
       "<table border=\"1\" class=\"dataframe\">\n",
       "  <thead>\n",
       "    <tr style=\"text-align: right;\">\n",
       "      <th></th>\n",
       "      <th>child_mort</th>\n",
       "      <th>exports</th>\n",
       "      <th>health</th>\n",
       "      <th>imports</th>\n",
       "      <th>income</th>\n",
       "      <th>inflation</th>\n",
       "      <th>life_expec</th>\n",
       "      <th>total_fer</th>\n",
       "      <th>gdpp</th>\n",
       "    </tr>\n",
       "  </thead>\n",
       "  <tbody>\n",
       "    <tr>\n",
       "      <th>count</th>\n",
       "      <td>167.000000</td>\n",
       "      <td>167.000000</td>\n",
       "      <td>167.000000</td>\n",
       "      <td>167.000000</td>\n",
       "      <td>167.000000</td>\n",
       "      <td>167.000000</td>\n",
       "      <td>167.000000</td>\n",
       "      <td>167.000000</td>\n",
       "      <td>167.000000</td>\n",
       "    </tr>\n",
       "    <tr>\n",
       "      <th>mean</th>\n",
       "      <td>38.270060</td>\n",
       "      <td>41.108976</td>\n",
       "      <td>6.815689</td>\n",
       "      <td>46.890215</td>\n",
       "      <td>17144.688623</td>\n",
       "      <td>7.781832</td>\n",
       "      <td>70.555689</td>\n",
       "      <td>2.947964</td>\n",
       "      <td>12964.155689</td>\n",
       "    </tr>\n",
       "    <tr>\n",
       "      <th>std</th>\n",
       "      <td>40.328931</td>\n",
       "      <td>27.412010</td>\n",
       "      <td>2.746837</td>\n",
       "      <td>24.209589</td>\n",
       "      <td>19278.067698</td>\n",
       "      <td>10.570704</td>\n",
       "      <td>8.893172</td>\n",
       "      <td>1.513848</td>\n",
       "      <td>18328.704809</td>\n",
       "    </tr>\n",
       "    <tr>\n",
       "      <th>min</th>\n",
       "      <td>2.600000</td>\n",
       "      <td>0.109000</td>\n",
       "      <td>1.810000</td>\n",
       "      <td>0.065900</td>\n",
       "      <td>609.000000</td>\n",
       "      <td>-4.210000</td>\n",
       "      <td>32.100000</td>\n",
       "      <td>1.150000</td>\n",
       "      <td>231.000000</td>\n",
       "    </tr>\n",
       "    <tr>\n",
       "      <th>25%</th>\n",
       "      <td>8.250000</td>\n",
       "      <td>23.800000</td>\n",
       "      <td>4.920000</td>\n",
       "      <td>30.200000</td>\n",
       "      <td>3355.000000</td>\n",
       "      <td>1.810000</td>\n",
       "      <td>65.300000</td>\n",
       "      <td>1.795000</td>\n",
       "      <td>1330.000000</td>\n",
       "    </tr>\n",
       "    <tr>\n",
       "      <th>50%</th>\n",
       "      <td>19.300000</td>\n",
       "      <td>35.000000</td>\n",
       "      <td>6.320000</td>\n",
       "      <td>43.300000</td>\n",
       "      <td>9960.000000</td>\n",
       "      <td>5.390000</td>\n",
       "      <td>73.100000</td>\n",
       "      <td>2.410000</td>\n",
       "      <td>4660.000000</td>\n",
       "    </tr>\n",
       "    <tr>\n",
       "      <th>75%</th>\n",
       "      <td>62.100000</td>\n",
       "      <td>51.350000</td>\n",
       "      <td>8.600000</td>\n",
       "      <td>58.750000</td>\n",
       "      <td>22800.000000</td>\n",
       "      <td>10.750000</td>\n",
       "      <td>76.800000</td>\n",
       "      <td>3.880000</td>\n",
       "      <td>14050.000000</td>\n",
       "    </tr>\n",
       "    <tr>\n",
       "      <th>max</th>\n",
       "      <td>208.000000</td>\n",
       "      <td>200.000000</td>\n",
       "      <td>17.900000</td>\n",
       "      <td>174.000000</td>\n",
       "      <td>125000.000000</td>\n",
       "      <td>104.000000</td>\n",
       "      <td>82.800000</td>\n",
       "      <td>7.490000</td>\n",
       "      <td>105000.000000</td>\n",
       "    </tr>\n",
       "  </tbody>\n",
       "</table>\n",
       "</div>"
      ],
      "text/plain": [
       "       child_mort     exports      health     imports         income  \\\n",
       "count  167.000000  167.000000  167.000000  167.000000     167.000000   \n",
       "mean    38.270060   41.108976    6.815689   46.890215   17144.688623   \n",
       "std     40.328931   27.412010    2.746837   24.209589   19278.067698   \n",
       "min      2.600000    0.109000    1.810000    0.065900     609.000000   \n",
       "25%      8.250000   23.800000    4.920000   30.200000    3355.000000   \n",
       "50%     19.300000   35.000000    6.320000   43.300000    9960.000000   \n",
       "75%     62.100000   51.350000    8.600000   58.750000   22800.000000   \n",
       "max    208.000000  200.000000   17.900000  174.000000  125000.000000   \n",
       "\n",
       "        inflation  life_expec   total_fer           gdpp  \n",
       "count  167.000000  167.000000  167.000000     167.000000  \n",
       "mean     7.781832   70.555689    2.947964   12964.155689  \n",
       "std     10.570704    8.893172    1.513848   18328.704809  \n",
       "min     -4.210000   32.100000    1.150000     231.000000  \n",
       "25%      1.810000   65.300000    1.795000    1330.000000  \n",
       "50%      5.390000   73.100000    2.410000    4660.000000  \n",
       "75%     10.750000   76.800000    3.880000   14050.000000  \n",
       "max    104.000000   82.800000    7.490000  105000.000000  "
      ]
     },
     "execution_count": 4,
     "metadata": {},
     "output_type": "execute_result"
    }
   ],
   "source": [
    "#Checking the nature of data\n",
    "data.describe()"
   ]
  },
  {
   "cell_type": "code",
   "execution_count": 5,
   "metadata": {},
   "outputs": [],
   "source": [
    "#Getting another copy of the data into new dataset called data2\n",
    "data2 = data.copy(deep = True)"
   ]
  },
  {
   "cell_type": "code",
   "execution_count": 6,
   "metadata": {},
   "outputs": [],
   "source": [
    "#dropping the country column  as twe dont need it in the unsupervised learning\n",
    "data2.drop('country', axis =1, inplace =True)"
   ]
  },
  {
   "cell_type": "code",
   "execution_count": 7,
   "metadata": {},
   "outputs": [
    {
     "data": {
      "text/html": [
       "<div>\n",
       "<style scoped>\n",
       "    .dataframe tbody tr th:only-of-type {\n",
       "        vertical-align: middle;\n",
       "    }\n",
       "\n",
       "    .dataframe tbody tr th {\n",
       "        vertical-align: top;\n",
       "    }\n",
       "\n",
       "    .dataframe thead th {\n",
       "        text-align: right;\n",
       "    }\n",
       "</style>\n",
       "<table border=\"1\" class=\"dataframe\">\n",
       "  <thead>\n",
       "    <tr style=\"text-align: right;\">\n",
       "      <th></th>\n",
       "      <th>child_mort</th>\n",
       "      <th>exports</th>\n",
       "      <th>health</th>\n",
       "      <th>imports</th>\n",
       "      <th>income</th>\n",
       "      <th>inflation</th>\n",
       "      <th>life_expec</th>\n",
       "      <th>total_fer</th>\n",
       "      <th>gdpp</th>\n",
       "    </tr>\n",
       "  </thead>\n",
       "  <tbody>\n",
       "    <tr>\n",
       "      <th>0</th>\n",
       "      <td>90.2</td>\n",
       "      <td>10.0</td>\n",
       "      <td>7.58</td>\n",
       "      <td>44.9</td>\n",
       "      <td>1610</td>\n",
       "      <td>9.44</td>\n",
       "      <td>56.2</td>\n",
       "      <td>5.82</td>\n",
       "      <td>553</td>\n",
       "    </tr>\n",
       "    <tr>\n",
       "      <th>1</th>\n",
       "      <td>16.6</td>\n",
       "      <td>28.0</td>\n",
       "      <td>6.55</td>\n",
       "      <td>48.6</td>\n",
       "      <td>9930</td>\n",
       "      <td>4.49</td>\n",
       "      <td>76.3</td>\n",
       "      <td>1.65</td>\n",
       "      <td>4090</td>\n",
       "    </tr>\n",
       "    <tr>\n",
       "      <th>2</th>\n",
       "      <td>27.3</td>\n",
       "      <td>38.4</td>\n",
       "      <td>4.17</td>\n",
       "      <td>31.4</td>\n",
       "      <td>12900</td>\n",
       "      <td>16.10</td>\n",
       "      <td>76.5</td>\n",
       "      <td>2.89</td>\n",
       "      <td>4460</td>\n",
       "    </tr>\n",
       "    <tr>\n",
       "      <th>3</th>\n",
       "      <td>119.0</td>\n",
       "      <td>62.3</td>\n",
       "      <td>2.85</td>\n",
       "      <td>42.9</td>\n",
       "      <td>5900</td>\n",
       "      <td>22.40</td>\n",
       "      <td>60.1</td>\n",
       "      <td>6.16</td>\n",
       "      <td>3530</td>\n",
       "    </tr>\n",
       "    <tr>\n",
       "      <th>4</th>\n",
       "      <td>10.3</td>\n",
       "      <td>45.5</td>\n",
       "      <td>6.03</td>\n",
       "      <td>58.9</td>\n",
       "      <td>19100</td>\n",
       "      <td>1.44</td>\n",
       "      <td>76.8</td>\n",
       "      <td>2.13</td>\n",
       "      <td>12200</td>\n",
       "    </tr>\n",
       "  </tbody>\n",
       "</table>\n",
       "</div>"
      ],
      "text/plain": [
       "   child_mort  exports  health  imports  income  inflation  life_expec  \\\n",
       "0        90.2     10.0    7.58     44.9    1610       9.44        56.2   \n",
       "1        16.6     28.0    6.55     48.6    9930       4.49        76.3   \n",
       "2        27.3     38.4    4.17     31.4   12900      16.10        76.5   \n",
       "3       119.0     62.3    2.85     42.9    5900      22.40        60.1   \n",
       "4        10.3     45.5    6.03     58.9   19100       1.44        76.8   \n",
       "\n",
       "   total_fer   gdpp  \n",
       "0       5.82    553  \n",
       "1       1.65   4090  \n",
       "2       2.89   4460  \n",
       "3       6.16   3530  \n",
       "4       2.13  12200  "
      ]
     },
     "execution_count": 7,
     "metadata": {},
     "output_type": "execute_result"
    }
   ],
   "source": [
    "data2.head()"
   ]
  },
  {
   "cell_type": "code",
   "execution_count": 8,
   "metadata": {},
   "outputs": [
    {
     "data": {
      "text/plain": [
       "child_mort    0\n",
       "exports       0\n",
       "health        0\n",
       "imports       0\n",
       "income        0\n",
       "inflation     0\n",
       "life_expec    0\n",
       "total_fer     0\n",
       "gdpp          0\n",
       "dtype: int64"
      ]
     },
     "execution_count": 8,
     "metadata": {},
     "output_type": "execute_result"
    }
   ],
   "source": [
    "#checking the null if there are present in the dataset\n",
    "data2.isnull().sum()"
   ]
  },
  {
   "cell_type": "markdown",
   "metadata": {},
   "source": [
    "Clearly there are no mussing values in the dataset, so there is no need of dropping off any rows becuase of unavailability of data"
   ]
  },
  {
   "cell_type": "code",
   "execution_count": 9,
   "metadata": {},
   "outputs": [
    {
     "name": "stdout",
     "output_type": "stream",
     "text": [
      "<class 'pandas.core.frame.DataFrame'>\n",
      "RangeIndex: 167 entries, 0 to 166\n",
      "Data columns (total 9 columns):\n",
      "child_mort    167 non-null float64\n",
      "exports       167 non-null float64\n",
      "health        167 non-null float64\n",
      "imports       167 non-null float64\n",
      "income        167 non-null int64\n",
      "inflation     167 non-null float64\n",
      "life_expec    167 non-null float64\n",
      "total_fer     167 non-null float64\n",
      "gdpp          167 non-null int64\n",
      "dtypes: float64(7), int64(2)\n",
      "memory usage: 11.8 KB\n"
     ]
    }
   ],
   "source": [
    "#Checking for the data statiscal behaviour\n",
    "data2.info()"
   ]
  },
  {
   "cell_type": "code",
   "execution_count": 10,
   "metadata": {},
   "outputs": [
    {
     "data": {
      "text/plain": [
       "Index(['child_mort', 'exports', 'health', 'imports', 'income', 'inflation',\n",
       "       'life_expec', 'total_fer', 'gdpp'],\n",
       "      dtype='object')"
      ]
     },
     "execution_count": 10,
     "metadata": {},
     "output_type": "execute_result"
    }
   ],
   "source": [
    "data2.columns"
   ]
  },
  {
   "cell_type": "markdown",
   "metadata": {},
   "source": [
    "Derived metrics: columns : exports, health, imports are caluculated as percentage of the gdp. But we dont have the GDP in the dataset. so we can consider them as the % of Gdpp and proceed to calulcate the absolute values\n",
    "\n",
    "The effect of the deriving the absolute metrics shall be minimal anywas because we will scale the data to get every feature in relatively same basis"
   ]
  },
  {
   "cell_type": "code",
   "execution_count": 11,
   "metadata": {},
   "outputs": [],
   "source": [
    "data2['Exports'] = data2['gdpp']*data2['exports']/100\n",
    "data2['Imports'] = data2['gdpp']*data2['imports']/100\n",
    "data2['Health'] = data2['gdpp']*data2['health']/100\n"
   ]
  },
  {
   "cell_type": "code",
   "execution_count": 12,
   "metadata": {},
   "outputs": [
    {
     "data": {
      "text/html": [
       "<div>\n",
       "<style scoped>\n",
       "    .dataframe tbody tr th:only-of-type {\n",
       "        vertical-align: middle;\n",
       "    }\n",
       "\n",
       "    .dataframe tbody tr th {\n",
       "        vertical-align: top;\n",
       "    }\n",
       "\n",
       "    .dataframe thead th {\n",
       "        text-align: right;\n",
       "    }\n",
       "</style>\n",
       "<table border=\"1\" class=\"dataframe\">\n",
       "  <thead>\n",
       "    <tr style=\"text-align: right;\">\n",
       "      <th></th>\n",
       "      <th>Exports</th>\n",
       "      <th>exports</th>\n",
       "      <th>Imports</th>\n",
       "      <th>imports</th>\n",
       "      <th>Health</th>\n",
       "      <th>health</th>\n",
       "    </tr>\n",
       "  </thead>\n",
       "  <tbody>\n",
       "    <tr>\n",
       "      <th>count</th>\n",
       "      <td>167.000000</td>\n",
       "      <td>167.000000</td>\n",
       "      <td>167.000000</td>\n",
       "      <td>167.000000</td>\n",
       "      <td>167.000000</td>\n",
       "      <td>167.000000</td>\n",
       "    </tr>\n",
       "    <tr>\n",
       "      <th>mean</th>\n",
       "      <td>7420.618847</td>\n",
       "      <td>41.108976</td>\n",
       "      <td>6588.352108</td>\n",
       "      <td>46.890215</td>\n",
       "      <td>1056.733204</td>\n",
       "      <td>6.815689</td>\n",
       "    </tr>\n",
       "    <tr>\n",
       "      <th>std</th>\n",
       "      <td>17973.885795</td>\n",
       "      <td>27.412010</td>\n",
       "      <td>14710.810418</td>\n",
       "      <td>24.209589</td>\n",
       "      <td>1801.408906</td>\n",
       "      <td>2.746837</td>\n",
       "    </tr>\n",
       "    <tr>\n",
       "      <th>min</th>\n",
       "      <td>1.076920</td>\n",
       "      <td>0.109000</td>\n",
       "      <td>0.651092</td>\n",
       "      <td>0.065900</td>\n",
       "      <td>12.821200</td>\n",
       "      <td>1.810000</td>\n",
       "    </tr>\n",
       "    <tr>\n",
       "      <th>25%</th>\n",
       "      <td>447.140000</td>\n",
       "      <td>23.800000</td>\n",
       "      <td>640.215000</td>\n",
       "      <td>30.200000</td>\n",
       "      <td>78.535500</td>\n",
       "      <td>4.920000</td>\n",
       "    </tr>\n",
       "    <tr>\n",
       "      <th>50%</th>\n",
       "      <td>1777.440000</td>\n",
       "      <td>35.000000</td>\n",
       "      <td>2045.580000</td>\n",
       "      <td>43.300000</td>\n",
       "      <td>321.886000</td>\n",
       "      <td>6.320000</td>\n",
       "    </tr>\n",
       "    <tr>\n",
       "      <th>75%</th>\n",
       "      <td>7278.000000</td>\n",
       "      <td>51.350000</td>\n",
       "      <td>7719.600000</td>\n",
       "      <td>58.750000</td>\n",
       "      <td>976.940000</td>\n",
       "      <td>8.600000</td>\n",
       "    </tr>\n",
       "    <tr>\n",
       "      <th>max</th>\n",
       "      <td>183750.000000</td>\n",
       "      <td>200.000000</td>\n",
       "      <td>149100.000000</td>\n",
       "      <td>174.000000</td>\n",
       "      <td>8663.600000</td>\n",
       "      <td>17.900000</td>\n",
       "    </tr>\n",
       "  </tbody>\n",
       "</table>\n",
       "</div>"
      ],
      "text/plain": [
       "             Exports     exports        Imports     imports       Health  \\\n",
       "count     167.000000  167.000000     167.000000  167.000000   167.000000   \n",
       "mean     7420.618847   41.108976    6588.352108   46.890215  1056.733204   \n",
       "std     17973.885795   27.412010   14710.810418   24.209589  1801.408906   \n",
       "min         1.076920    0.109000       0.651092    0.065900    12.821200   \n",
       "25%       447.140000   23.800000     640.215000   30.200000    78.535500   \n",
       "50%      1777.440000   35.000000    2045.580000   43.300000   321.886000   \n",
       "75%      7278.000000   51.350000    7719.600000   58.750000   976.940000   \n",
       "max    183750.000000  200.000000  149100.000000  174.000000  8663.600000   \n",
       "\n",
       "           health  \n",
       "count  167.000000  \n",
       "mean     6.815689  \n",
       "std      2.746837  \n",
       "min      1.810000  \n",
       "25%      4.920000  \n",
       "50%      6.320000  \n",
       "75%      8.600000  \n",
       "max     17.900000  "
      ]
     },
     "execution_count": 12,
     "metadata": {},
     "output_type": "execute_result"
    }
   ],
   "source": [
    "data2[['Exports', 'exports', 'Imports', 'imports', 'Health', 'health']].describe()"
   ]
  },
  {
   "cell_type": "code",
   "execution_count": 13,
   "metadata": {},
   "outputs": [],
   "source": [
    "data2.drop(['exports','imports','health'], axis =1 , inplace = True)"
   ]
  },
  {
   "cell_type": "code",
   "execution_count": 14,
   "metadata": {},
   "outputs": [
    {
     "data": {
      "image/png": "[encoded data removed]",
      "text/plain": [
       "<Figure size 2880x720 with 9 Axes>"
      ]
     },
     "metadata": {},
     "output_type": "display_data"
    }
   ],
   "source": [
    "var = ['child_mort', 'Exports', 'Health', 'Imports', 'income', 'inflation', 'life_expec', 'total_fer', 'gdpp']\n",
    "plt.figure(figsize = (40,10))\n",
    "for i in enumerate(var):\n",
    "    plt.subplot(2,5,i[0]+1)\n",
    "    sns.boxplot(x= i[1], data = data2)"
   ]
  },
  {
   "cell_type": "markdown",
   "metadata": {},
   "source": [
    "We can clearly see that there are outliers present in the child_mort, exports, health, imports, income, inflation, lifeexpectancy, total_fer, gdpp.It is also observed that we have lot of outliers in the gdpp as the these high gdpp countries possibly be considered as as cluster when we do the K Means and Heirarchial Clustering. So, we dont want to remove outliers"
   ]
  },
  {
   "cell_type": "markdown",
   "metadata": {},
   "source": [
    "## PCA"
   ]
  },
  {
   "cell_type": "code",
   "execution_count": 15,
   "metadata": {},
   "outputs": [],
   "source": [
    "#Scaling the data\n",
    "scaler = StandardScaler()\n",
    "data3 = scaler.fit_transform(data2)"
   ]
  },
  {
   "cell_type": "code",
   "execution_count": 16,
   "metadata": {},
   "outputs": [
    {
     "data": {
      "text/plain": [
       "array([[ 1.29153238, -0.8082454 ,  0.15733622, ..., -0.4110113 ,\n",
       "        -0.4322755 , -0.56503989],\n",
       "       [-0.5389489 , -0.3753689 , -0.31234747, ..., -0.35019096,\n",
       "        -0.31367739, -0.43921769],\n",
       "       [-0.27283273, -0.22084447,  0.78927429, ..., -0.31852577,\n",
       "        -0.35372048, -0.48482608],\n",
       "       ...,\n",
       "       [-0.37231541, -0.65840354,  0.40973191, ..., -0.36146329,\n",
       "        -0.37757179, -0.53848844],\n",
       "       [ 0.44841668, -0.65892382,  1.50091625, ..., -0.39216643,\n",
       "        -0.41847942, -0.55059641],\n",
       "       [ 1.11495062, -0.72135793,  0.59001454, ..., -0.38395214,\n",
       "        -0.41844533, -0.54049845]])"
      ]
     },
     "execution_count": 16,
     "metadata": {},
     "output_type": "execute_result"
    }
   ],
   "source": [
    "data3"
   ]
  },
  {
   "cell_type": "code",
   "execution_count": 17,
   "metadata": {},
   "outputs": [
    {
     "data": {
      "text/plain": [
       "child_mort    1.300825e-04\n",
       "income        2.972436e+01\n",
       "inflation     8.937032e-06\n",
       "life_expec    6.325559e-06\n",
       "total_fer     1.832947e-07\n",
       "gdpp          2.686885e+01\n",
       "Exports       2.583863e+01\n",
       "Imports       1.730847e+01\n",
       "Health        2.595435e-01\n",
       "dtype: float64"
      ]
     },
     "execution_count": 17,
     "metadata": {},
     "output_type": "execute_result"
    }
   ],
   "source": [
    "#Checking the variance of different featurese in the original dataset\n",
    "data2.var()*100/sum(data2.var()) \n",
    "# here we can see that the income, gdpp are the main columns which has high variance in the data"
   ]
  },
  {
   "cell_type": "code",
   "execution_count": 18,
   "metadata": {},
   "outputs": [
    {
     "data": {
      "text/plain": [
       "PCA(copy=True, iterated_power='auto', n_components=None, random_state=42,\n",
       "  svd_solver='randomized', tol=0.0, whiten=False)"
      ]
     },
     "execution_count": 18,
     "metadata": {},
     "output_type": "execute_result"
    }
   ],
   "source": [
    "#finding out the Principal components by running PCA using svd_solver for having more robust analysis\n",
    "#Importing the PCA module\n",
    "pca = PCA(svd_solver = 'randomized', random_state= 42)\n",
    "pca.fit(data3)"
   ]
  },
  {
   "cell_type": "code",
   "execution_count": 19,
   "metadata": {},
   "outputs": [
    {
     "data": {
      "text/plain": [
       "array([[-0.31639186,  0.38004113, -0.14308531,  0.34385651, -0.30284224,\n",
       "         0.39998795,  0.34288671,  0.34486492,  0.358535  ],\n",
       "       [ 0.47626735,  0.12838448,  0.22126089, -0.36981973,  0.4597152 ,\n",
       "         0.2006241 ,  0.39731091,  0.37078075,  0.1550529 ],\n",
       "       [-0.15001225,  0.14576421,  0.94841868,  0.19675173, -0.07783431,\n",
       "         0.01033941, -0.03057367, -0.07217386, -0.07570322],\n",
       "       [-0.14805195, -0.15480592, -0.00762798, -0.01839465, -0.21392805,\n",
       "        -0.36477239,  0.44942527,  0.46179779, -0.59971228],\n",
       "       [ 0.1019948 ,  0.79407469, -0.13642345, -0.15404105, -0.02033568,\n",
       "         0.08750149, -0.03853829, -0.2527867 , -0.49319984],\n",
       "       [ 0.19658519, -0.03814681,  0.10840284, -0.58600986, -0.75390075,\n",
       "         0.04538167, -0.03891112, -0.01217988,  0.18069888],\n",
       "       [ 0.76126725, -0.02311312, -0.02207663,  0.58120846, -0.27314534,\n",
       "        -0.04402264, -0.01366973,  0.02718244, -0.06461567],\n",
       "       [ 0.00644411,  0.3938113 , -0.00607016,  0.002966  ,  0.03429334,\n",
       "        -0.79902242, -0.05526371,  0.1311355 ,  0.43007213],\n",
       "       [-0.00495137,  0.07901102,  0.01128137, -0.03159406,  0.02368185,\n",
       "         0.12846398, -0.71792388,  0.66568664, -0.13034593]])"
      ]
     },
     "execution_count": 19,
     "metadata": {},
     "output_type": "execute_result"
    }
   ],
   "source": [
    "#Eigen Vectors for the Dataset after the PCA\n",
    "pca.components_"
   ]
  },
  {
   "cell_type": "code",
   "execution_count": 20,
   "metadata": {},
   "outputs": [
    {
     "data": {
      "text/plain": [
       "array([5.89372984e-01, 1.84451685e-01, 9.91147170e-02, 6.07227801e-02,\n",
       "       3.02917253e-02, 2.45982702e-02, 9.39743701e-03, 1.55641971e-03,\n",
       "       4.93981394e-04])"
      ]
     },
     "execution_count": 20,
     "metadata": {},
     "output_type": "execute_result"
    }
   ],
   "source": [
    "#to find out the which components are explaining the most variance in the data\n",
    "pca.explained_variance_ratio_"
   ]
  },
  {
   "cell_type": "code",
   "execution_count": 21,
   "metadata": {},
   "outputs": [
    {
     "data": {
      "text/plain": [
       "Text(0,0.5,'Cumulative Variance')"
      ]
     },
     "execution_count": 21,
     "metadata": {},
     "output_type": "execute_result"
    },
    {
     "data": {
      "image/png": "[encoded data removed]",
      "text/plain": [
       "<Figure size 720x576 with 1 Axes>"
      ]
     },
     "metadata": {},
     "output_type": "display_data"
    }
   ],
   "source": [
    "#Plotting the scree plot\n",
    "%matplotlib inline\n",
    "fig = plt.figure(figsize = (10,8))\n",
    "plt.plot( np.cumsum(pca.explained_variance_ratio_))\n",
    "plt.vlines(x=3, ymax=1, ymin=0, colors=\"r\", linestyles=\"--\")\n",
    "plt.hlines(y=0.93, xmax=10, xmin=0, colors=\"g\", linestyles=\"--\")\n",
    "plt.xlabel('Number of Coponents')\n",
    "plt.ylabel('Cumulative Variance')"
   ]
  },
  {
   "cell_type": "markdown",
   "metadata": {},
   "source": [
    "93% of the variance is being explained by the first 3 Principle components as per the screeplot\n",
    "so performing the PCA with 3 components"
   ]
  },
  {
   "cell_type": "code",
   "execution_count": 22,
   "metadata": {},
   "outputs": [],
   "source": [
    "#Rinning PCA for the 3 components as per the conclusion above\n",
    "pca_final = IncrementalPCA(n_components=3)"
   ]
  },
  {
   "cell_type": "code",
   "execution_count": 23,
   "metadata": {},
   "outputs": [
    {
     "data": {
      "text/plain": [
       "(167, 3)"
      ]
     },
     "execution_count": 23,
     "metadata": {},
     "output_type": "execute_result"
    }
   ],
   "source": [
    "#transforming the data here\n",
    "df_pca = pca_final.fit_transform(data3)\n",
    "df_pca.shape"
   ]
  },
  {
   "cell_type": "code",
   "execution_count": 24,
   "metadata": {},
   "outputs": [],
   "source": [
    "# Create a dataframe with the PCs obtained\n",
    "pc  = pd.DataFrame(df_pca)\n",
    "pca_df2 = pd.DataFrame({'PC1': pc[0], 'PC2':pc[1], 'PC3':pc[2]})"
   ]
  },
  {
   "cell_type": "code",
   "execution_count": 25,
   "metadata": {},
   "outputs": [
    {
     "data": {
      "text/html": [
       "<div>\n",
       "<style scoped>\n",
       "    .dataframe tbody tr th:only-of-type {\n",
       "        vertical-align: middle;\n",
       "    }\n",
       "\n",
       "    .dataframe tbody tr th {\n",
       "        vertical-align: top;\n",
       "    }\n",
       "\n",
       "    .dataframe thead th {\n",
       "        text-align: right;\n",
       "    }\n",
       "</style>\n",
       "<table border=\"1\" class=\"dataframe\">\n",
       "  <thead>\n",
       "    <tr style=\"text-align: right;\">\n",
       "      <th></th>\n",
       "      <th>PC1</th>\n",
       "      <th>PC2</th>\n",
       "      <th>PC3</th>\n",
       "    </tr>\n",
       "  </thead>\n",
       "  <tbody>\n",
       "    <tr>\n",
       "      <th>0</th>\n",
       "      <td>-2.637442</td>\n",
       "      <td>1.469038</td>\n",
       "      <td>-0.541359</td>\n",
       "    </tr>\n",
       "    <tr>\n",
       "      <th>1</th>\n",
       "      <td>-0.022277</td>\n",
       "      <td>-1.431896</td>\n",
       "      <td>-0.020701</td>\n",
       "    </tr>\n",
       "    <tr>\n",
       "      <th>2</th>\n",
       "      <td>-0.457626</td>\n",
       "      <td>-0.673301</td>\n",
       "      <td>0.961867</td>\n",
       "    </tr>\n",
       "    <tr>\n",
       "      <th>3</th>\n",
       "      <td>-2.724520</td>\n",
       "      <td>2.174583</td>\n",
       "      <td>0.606687</td>\n",
       "    </tr>\n",
       "    <tr>\n",
       "      <th>4</th>\n",
       "      <td>0.649849</td>\n",
       "      <td>-1.024374</td>\n",
       "      <td>-0.250103</td>\n",
       "    </tr>\n",
       "  </tbody>\n",
       "</table>\n",
       "</div>"
      ],
      "text/plain": [
       "        PC1       PC2       PC3\n",
       "0 -2.637442  1.469038 -0.541359\n",
       "1 -0.022277 -1.431896 -0.020701\n",
       "2 -0.457626 -0.673301  0.961867\n",
       "3 -2.724520  2.174583  0.606687\n",
       "4  0.649849 -1.024374 -0.250103"
      ]
     },
     "execution_count": 25,
     "metadata": {},
     "output_type": "execute_result"
    }
   ],
   "source": [
    "pca_df2.head()"
   ]
  },
  {
   "cell_type": "code",
   "execution_count": 26,
   "metadata": {},
   "outputs": [
    {
     "data": {
      "text/html": [
       "<div>\n",
       "<style scoped>\n",
       "    .dataframe tbody tr th:only-of-type {\n",
       "        vertical-align: middle;\n",
       "    }\n",
       "\n",
       "    .dataframe tbody tr th {\n",
       "        vertical-align: top;\n",
       "    }\n",
       "\n",
       "    .dataframe thead th {\n",
       "        text-align: right;\n",
       "    }\n",
       "</style>\n",
       "<table border=\"1\" class=\"dataframe\">\n",
       "  <thead>\n",
       "    <tr style=\"text-align: right;\">\n",
       "      <th></th>\n",
       "      <th>country</th>\n",
       "      <th>PC1</th>\n",
       "      <th>PC2</th>\n",
       "      <th>PC3</th>\n",
       "    </tr>\n",
       "  </thead>\n",
       "  <tbody>\n",
       "    <tr>\n",
       "      <th>0</th>\n",
       "      <td>Afghanistan</td>\n",
       "      <td>-2.637442</td>\n",
       "      <td>1.469038</td>\n",
       "      <td>-0.541359</td>\n",
       "    </tr>\n",
       "    <tr>\n",
       "      <th>1</th>\n",
       "      <td>Albania</td>\n",
       "      <td>-0.022277</td>\n",
       "      <td>-1.431896</td>\n",
       "      <td>-0.020701</td>\n",
       "    </tr>\n",
       "    <tr>\n",
       "      <th>2</th>\n",
       "      <td>Algeria</td>\n",
       "      <td>-0.457626</td>\n",
       "      <td>-0.673301</td>\n",
       "      <td>0.961867</td>\n",
       "    </tr>\n",
       "    <tr>\n",
       "      <th>3</th>\n",
       "      <td>Angola</td>\n",
       "      <td>-2.724520</td>\n",
       "      <td>2.174583</td>\n",
       "      <td>0.606687</td>\n",
       "    </tr>\n",
       "    <tr>\n",
       "      <th>4</th>\n",
       "      <td>Antigua and Barbuda</td>\n",
       "      <td>0.649849</td>\n",
       "      <td>-1.024374</td>\n",
       "      <td>-0.250103</td>\n",
       "    </tr>\n",
       "  </tbody>\n",
       "</table>\n",
       "</div>"
      ],
      "text/plain": [
       "               country       PC1       PC2       PC3\n",
       "0          Afghanistan -2.637442  1.469038 -0.541359\n",
       "1              Albania -0.022277 -1.431896 -0.020701\n",
       "2              Algeria -0.457626 -0.673301  0.961867\n",
       "3               Angola -2.724520  2.174583  0.606687\n",
       "4  Antigua and Barbuda  0.649849 -1.024374 -0.250103"
      ]
     },
     "execution_count": 26,
     "metadata": {},
     "output_type": "execute_result"
    }
   ],
   "source": [
    "#adding the country column back to the pca_df2\n",
    "pca_df2 = pd.DataFrame({'country': data['country'], 'PC1': pc[0], 'PC2':pc[1], 'PC3':pc[2]})\n",
    "pca_df2.head()"
   ]
  },
  {
   "cell_type": "markdown",
   "metadata": {},
   "source": [
    "### Clustering"
   ]
  },
  {
   "cell_type": "code",
   "execution_count": 27,
   "metadata": {},
   "outputs": [],
   "source": [
    "#for hopkins Statistics:\n",
    "#Calculating the Hopkins statistic\n",
    "from sklearn.neighbors import NearestNeighbors\n",
    "from random import sample\n",
    "from numpy.random import uniform\n",
    "import numpy as np\n",
    "from math import isnan\n",
    " \n",
    "def hopkins(X):\n",
    "    d = X.shape[1]\n",
    "    #d = len(vars) # columns\n",
    "    n = len(X) # rows\n",
    "    m = int(0.1 * n) \n",
    "    nbrs = NearestNeighbors(n_neighbors=1).fit(X.values)\n",
    " \n",
    "    rand_X = sample(range(0, n, 1), m)\n",
    " \n",
    "    ujd = []\n",
    "    wjd = []\n",
    "    for j in range(0, m):\n",
    "        u_dist, _ = nbrs.kneighbors(uniform(np.amin(X,axis=0),np.amax(X,axis=0),d).reshape(1, -1), 2, return_distance=True)\n",
    "        ujd.append(u_dist[0][1])\n",
    "        w_dist, _ = nbrs.kneighbors(X.iloc[rand_X[j]].values.reshape(1, -1), 2, return_distance=True)\n",
    "        wjd.append(w_dist[0][1])\n",
    " \n",
    "    H = sum(ujd) / (sum(ujd) + sum(wjd))\n",
    "    if isnan(H):\n",
    "        print(ujd, wjd)\n",
    "        H = 0\n",
    " \n",
    "    return H"
   ]
  },
  {
   "cell_type": "code",
   "execution_count": 28,
   "metadata": {},
   "outputs": [
    {
     "data": {
      "text/plain": [
       "0.9330086462996037"
      ]
     },
     "execution_count": 28,
     "metadata": {},
     "output_type": "execute_result"
    }
   ],
   "source": [
    "#checking the Hopkins measure\n",
    "hopkins(pca_df2.drop('country', axis=1))"
   ]
  },
  {
   "cell_type": "markdown",
   "metadata": {},
   "source": [
    "we are gettting the hopkins statistic value more than 0.80 cosistently(have ran 10 times), which tells is that the data set is good for clustering"
   ]
  },
  {
   "cell_type": "code",
   "execution_count": 29,
   "metadata": {},
   "outputs": [],
   "source": [
    "#Dropping the country column to perform the clustering again\n",
    "data3 = pca_df2.drop('country', axis = 1)"
   ]
  },
  {
   "cell_type": "code",
   "execution_count": 30,
   "metadata": {},
   "outputs": [
    {
     "data": {
      "text/html": [
       "<div>\n",
       "<style scoped>\n",
       "    .dataframe tbody tr th:only-of-type {\n",
       "        vertical-align: middle;\n",
       "    }\n",
       "\n",
       "    .dataframe tbody tr th {\n",
       "        vertical-align: top;\n",
       "    }\n",
       "\n",
       "    .dataframe thead th {\n",
       "        text-align: right;\n",
       "    }\n",
       "</style>\n",
       "<table border=\"1\" class=\"dataframe\">\n",
       "  <thead>\n",
       "    <tr style=\"text-align: right;\">\n",
       "      <th></th>\n",
       "      <th>PC1</th>\n",
       "      <th>PC2</th>\n",
       "      <th>PC3</th>\n",
       "    </tr>\n",
       "  </thead>\n",
       "  <tbody>\n",
       "    <tr>\n",
       "      <th>0</th>\n",
       "      <td>-2.637442</td>\n",
       "      <td>1.469038</td>\n",
       "      <td>-0.541359</td>\n",
       "    </tr>\n",
       "    <tr>\n",
       "      <th>1</th>\n",
       "      <td>-0.022277</td>\n",
       "      <td>-1.431896</td>\n",
       "      <td>-0.020701</td>\n",
       "    </tr>\n",
       "    <tr>\n",
       "      <th>2</th>\n",
       "      <td>-0.457626</td>\n",
       "      <td>-0.673301</td>\n",
       "      <td>0.961867</td>\n",
       "    </tr>\n",
       "    <tr>\n",
       "      <th>3</th>\n",
       "      <td>-2.724520</td>\n",
       "      <td>2.174583</td>\n",
       "      <td>0.606687</td>\n",
       "    </tr>\n",
       "    <tr>\n",
       "      <th>4</th>\n",
       "      <td>0.649849</td>\n",
       "      <td>-1.024374</td>\n",
       "      <td>-0.250103</td>\n",
       "    </tr>\n",
       "  </tbody>\n",
       "</table>\n",
       "</div>"
      ],
      "text/plain": [
       "        PC1       PC2       PC3\n",
       "0 -2.637442  1.469038 -0.541359\n",
       "1 -0.022277 -1.431896 -0.020701\n",
       "2 -0.457626 -0.673301  0.961867\n",
       "3 -2.724520  2.174583  0.606687\n",
       "4  0.649849 -1.024374 -0.250103"
      ]
     },
     "execution_count": 30,
     "metadata": {},
     "output_type": "execute_result"
    }
   ],
   "source": [
    "data3.head()"
   ]
  },
  {
   "cell_type": "markdown",
   "metadata": {},
   "source": [
    "### Performing the K- Means Clustering"
   ]
  },
  {
   "cell_type": "code",
   "execution_count": 31,
   "metadata": {},
   "outputs": [
    {
     "data": {
      "text/plain": [
       "<matplotlib.collections.LineCollection at 0x1d041ec1588>"
      ]
     },
     "execution_count": 31,
     "metadata": {},
     "output_type": "execute_result"
    },
    {
     "data": {
      "image/png": "[encoded data removed]",
      "text/plain": [
       "<Figure size 432x288 with 1 Axes>"
      ]
     },
     "metadata": {},
     "output_type": "display_data"
    }
   ],
   "source": [
    "#Performing the silhoutte analysis and followed by the Elbow Curve for deciding the optimal number of clusters\n",
    "ss = []\n",
    "for k in range(2, 10):\n",
    "    kmean = KMeans(n_clusters = k, random_state=10).fit(data3)\n",
    "    ss.append([k, silhouette_score(data3, kmean.labels_)])\n",
    "plt.plot(pd.DataFrame(ss)[0], pd.DataFrame(ss)[1])\n",
    "plt.vlines(x=3, ymax=0.5, ymin=0.35, colors=\"r\", linestyles=\"--\")\n",
    "plt.hlines(y=0.48, xmax=10, xmin=2, colors=\"g\", linestyles=\"--\")"
   ]
  },
  {
   "cell_type": "code",
   "execution_count": 32,
   "metadata": {},
   "outputs": [
    {
     "data": {
      "text/plain": [
       "[<matplotlib.lines.Line2D at 0x1d041f5a2b0>]"
      ]
     },
     "execution_count": 32,
     "metadata": {},
     "output_type": "execute_result"
    },
    {
     "data": {
      "image/png": "[encoded data removed]",
      "text/plain": [
       "<Figure size 432x288 with 1 Axes>"
      ]
     },
     "metadata": {},
     "output_type": "display_data"
    }
   ],
   "source": [
    "#Plotting the elbow plot for deciding the optimal number of the clusters\n",
    "ssd = []\n",
    "for k in range(2, 10):\n",
    "    kmean = KMeans(n_clusters = k).fit(data3)\n",
    "    ssd.append([k, kmean.inertia_])\n",
    "plt.plot(pd.DataFrame(ssd)[0], pd.DataFrame(ssd)[1])"
   ]
  },
  {
   "cell_type": "markdown",
   "metadata": {},
   "source": [
    "Proceeding with the 3 clusters as per the Sillhoutte Score(0.48) and the Elbow plot"
   ]
  },
  {
   "cell_type": "code",
   "execution_count": 33,
   "metadata": {},
   "outputs": [],
   "source": [
    "#Performing K-Means Clustering using the k=3 \n",
    "model_kmean = KMeans(n_clusters= 3, random_state= 50).fit(data3)"
   ]
  },
  {
   "cell_type": "code",
   "execution_count": 34,
   "metadata": {},
   "outputs": [],
   "source": [
    "#Adding the Clsuter IDs to the PCs data\n",
    "data_km = pd.concat([pca_df2.reset_index().drop('index', axis =1), pd.Series(model_kmean.labels_).reset_index().drop('index', axis = 1)], axis =1)"
   ]
  },
  {
   "cell_type": "code",
   "execution_count": 35,
   "metadata": {},
   "outputs": [],
   "source": [
    "data_km.columns = ['country', 'PC1', 'PC2', 'PC3', 'ClusterID']"
   ]
  },
  {
   "cell_type": "code",
   "execution_count": 36,
   "metadata": {},
   "outputs": [
    {
     "data": {
      "text/plain": [
       "1    92\n",
       "2    48\n",
       "0    27\n",
       "Name: ClusterID, dtype: int64"
      ]
     },
     "execution_count": 36,
     "metadata": {},
     "output_type": "execute_result"
    }
   ],
   "source": [
    "data_km['ClusterID'].value_counts()"
   ]
  },
  {
   "cell_type": "code",
   "execution_count": 37,
   "metadata": {},
   "outputs": [
    {
     "data": {
      "text/plain": [
       "<matplotlib.axes._subplots.AxesSubplot at 0x1d041fa80f0>"
      ]
     },
     "execution_count": 37,
     "metadata": {},
     "output_type": "execute_result"
    },
    {
     "data": {
      "image/png": "[encoded data removed]",
      "text/plain": [
       "<Figure size 432x288 with 1 Axes>"
      ]
     },
     "metadata": {},
     "output_type": "display_data"
    }
   ],
   "source": [
    "# Check the count of observation per cluster\n",
    "data_km['ClusterID'].value_counts().plot(kind ='bar')"
   ]
  },
  {
   "cell_type": "code",
   "execution_count": 38,
   "metadata": {},
   "outputs": [
    {
     "data": {
      "text/html": [
       "<div>\n",
       "<style scoped>\n",
       "    .dataframe tbody tr th:only-of-type {\n",
       "        vertical-align: middle;\n",
       "    }\n",
       "\n",
       "    .dataframe tbody tr th {\n",
       "        vertical-align: top;\n",
       "    }\n",
       "\n",
       "    .dataframe thead th {\n",
       "        text-align: right;\n",
       "    }\n",
       "</style>\n",
       "<table border=\"1\" class=\"dataframe\">\n",
       "  <thead>\n",
       "    <tr style=\"text-align: right;\">\n",
       "      <th></th>\n",
       "      <th>country</th>\n",
       "      <th>PC1</th>\n",
       "      <th>PC2</th>\n",
       "      <th>PC3</th>\n",
       "      <th>ClusterID</th>\n",
       "    </tr>\n",
       "  </thead>\n",
       "  <tbody>\n",
       "    <tr>\n",
       "      <th>0</th>\n",
       "      <td>Afghanistan</td>\n",
       "      <td>-2.637442</td>\n",
       "      <td>1.469038</td>\n",
       "      <td>-0.541359</td>\n",
       "      <td>2</td>\n",
       "    </tr>\n",
       "    <tr>\n",
       "      <th>1</th>\n",
       "      <td>Albania</td>\n",
       "      <td>-0.022277</td>\n",
       "      <td>-1.431896</td>\n",
       "      <td>-0.020701</td>\n",
       "      <td>1</td>\n",
       "    </tr>\n",
       "    <tr>\n",
       "      <th>2</th>\n",
       "      <td>Algeria</td>\n",
       "      <td>-0.457626</td>\n",
       "      <td>-0.673301</td>\n",
       "      <td>0.961867</td>\n",
       "      <td>1</td>\n",
       "    </tr>\n",
       "    <tr>\n",
       "      <th>3</th>\n",
       "      <td>Angola</td>\n",
       "      <td>-2.724520</td>\n",
       "      <td>2.174583</td>\n",
       "      <td>0.606687</td>\n",
       "      <td>2</td>\n",
       "    </tr>\n",
       "    <tr>\n",
       "      <th>4</th>\n",
       "      <td>Antigua and Barbuda</td>\n",
       "      <td>0.649849</td>\n",
       "      <td>-1.024374</td>\n",
       "      <td>-0.250103</td>\n",
       "      <td>1</td>\n",
       "    </tr>\n",
       "  </tbody>\n",
       "</table>\n",
       "</div>"
      ],
      "text/plain": [
       "               country       PC1       PC2       PC3  ClusterID\n",
       "0          Afghanistan -2.637442  1.469038 -0.541359          2\n",
       "1              Albania -0.022277 -1.431896 -0.020701          1\n",
       "2              Algeria -0.457626 -0.673301  0.961867          1\n",
       "3               Angola -2.724520  2.174583  0.606687          2\n",
       "4  Antigua and Barbuda  0.649849 -1.024374 -0.250103          1"
      ]
     },
     "execution_count": 38,
     "metadata": {},
     "output_type": "execute_result"
    }
   ],
   "source": [
    "data_km.head()"
   ]
  },
  {
   "cell_type": "code",
   "execution_count": 39,
   "metadata": {},
   "outputs": [
    {
     "data": {
      "text/plain": [
       "<seaborn.axisgrid.PairGrid at 0x1d042001208>"
      ]
     },
     "execution_count": 39,
     "metadata": {},
     "output_type": "execute_result"
    },
    {
     "data": {
      "image/png": "[encoded data removed]",
      "text/plain": [
       "<Figure size 414.125x360 with 1 Axes>"
      ]
     },
     "metadata": {},
     "output_type": "display_data"
    }
   ],
   "source": [
    "# Plot the Cluster with respect to the clusters obtained\n",
    "sns.pairplot(data = data_km, x_vars= [\"PC1\"], y_vars= [\"PC2\"], hue = \"ClusterID\", size = 5)"
   ]
  },
  {
   "cell_type": "markdown",
   "metadata": {},
   "source": [
    "### Cluster Profiling"
   ]
  },
  {
   "cell_type": "code",
   "execution_count": 40,
   "metadata": {},
   "outputs": [],
   "source": [
    "data2['country'] = data['country']"
   ]
  },
  {
   "cell_type": "code",
   "execution_count": 41,
   "metadata": {},
   "outputs": [],
   "source": [
    "data4 = pd.merge(data2, data_km[['country','ClusterID']], on = 'country')"
   ]
  },
  {
   "cell_type": "code",
   "execution_count": 42,
   "metadata": {},
   "outputs": [
    {
     "data": {
      "text/html": [
       "<div>\n",
       "<style scoped>\n",
       "    .dataframe tbody tr th:only-of-type {\n",
       "        vertical-align: middle;\n",
       "    }\n",
       "\n",
       "    .dataframe tbody tr th {\n",
       "        vertical-align: top;\n",
       "    }\n",
       "\n",
       "    .dataframe thead th {\n",
       "        text-align: right;\n",
       "    }\n",
       "</style>\n",
       "<table border=\"1\" class=\"dataframe\">\n",
       "  <thead>\n",
       "    <tr style=\"text-align: right;\">\n",
       "      <th></th>\n",
       "      <th>child_mort</th>\n",
       "      <th>income</th>\n",
       "      <th>inflation</th>\n",
       "      <th>life_expec</th>\n",
       "      <th>total_fer</th>\n",
       "      <th>gdpp</th>\n",
       "      <th>Exports</th>\n",
       "      <th>Imports</th>\n",
       "      <th>Health</th>\n",
       "      <th>country</th>\n",
       "      <th>ClusterID</th>\n",
       "    </tr>\n",
       "  </thead>\n",
       "  <tbody>\n",
       "    <tr>\n",
       "      <th>0</th>\n",
       "      <td>90.2</td>\n",
       "      <td>1610</td>\n",
       "      <td>9.44</td>\n",
       "      <td>56.2</td>\n",
       "      <td>5.82</td>\n",
       "      <td>553</td>\n",
       "      <td>55.30</td>\n",
       "      <td>248.297</td>\n",
       "      <td>41.9174</td>\n",
       "      <td>Afghanistan</td>\n",
       "      <td>2</td>\n",
       "    </tr>\n",
       "    <tr>\n",
       "      <th>1</th>\n",
       "      <td>16.6</td>\n",
       "      <td>9930</td>\n",
       "      <td>4.49</td>\n",
       "      <td>76.3</td>\n",
       "      <td>1.65</td>\n",
       "      <td>4090</td>\n",
       "      <td>1145.20</td>\n",
       "      <td>1987.740</td>\n",
       "      <td>267.8950</td>\n",
       "      <td>Albania</td>\n",
       "      <td>1</td>\n",
       "    </tr>\n",
       "    <tr>\n",
       "      <th>2</th>\n",
       "      <td>27.3</td>\n",
       "      <td>12900</td>\n",
       "      <td>16.10</td>\n",
       "      <td>76.5</td>\n",
       "      <td>2.89</td>\n",
       "      <td>4460</td>\n",
       "      <td>1712.64</td>\n",
       "      <td>1400.440</td>\n",
       "      <td>185.9820</td>\n",
       "      <td>Algeria</td>\n",
       "      <td>1</td>\n",
       "    </tr>\n",
       "    <tr>\n",
       "      <th>3</th>\n",
       "      <td>119.0</td>\n",
       "      <td>5900</td>\n",
       "      <td>22.40</td>\n",
       "      <td>60.1</td>\n",
       "      <td>6.16</td>\n",
       "      <td>3530</td>\n",
       "      <td>2199.19</td>\n",
       "      <td>1514.370</td>\n",
       "      <td>100.6050</td>\n",
       "      <td>Angola</td>\n",
       "      <td>2</td>\n",
       "    </tr>\n",
       "    <tr>\n",
       "      <th>4</th>\n",
       "      <td>10.3</td>\n",
       "      <td>19100</td>\n",
       "      <td>1.44</td>\n",
       "      <td>76.8</td>\n",
       "      <td>2.13</td>\n",
       "      <td>12200</td>\n",
       "      <td>5551.00</td>\n",
       "      <td>7185.800</td>\n",
       "      <td>735.6600</td>\n",
       "      <td>Antigua and Barbuda</td>\n",
       "      <td>1</td>\n",
       "    </tr>\n",
       "  </tbody>\n",
       "</table>\n",
       "</div>"
      ],
      "text/plain": [
       "   child_mort  income  inflation  life_expec  total_fer   gdpp  Exports  \\\n",
       "0        90.2    1610       9.44        56.2       5.82    553    55.30   \n",
       "1        16.6    9930       4.49        76.3       1.65   4090  1145.20   \n",
       "2        27.3   12900      16.10        76.5       2.89   4460  1712.64   \n",
       "3       119.0    5900      22.40        60.1       6.16   3530  2199.19   \n",
       "4        10.3   19100       1.44        76.8       2.13  12200  5551.00   \n",
       "\n",
       "    Imports    Health              country  ClusterID  \n",
       "0   248.297   41.9174          Afghanistan          2  \n",
       "1  1987.740  267.8950              Albania          1  \n",
       "2  1400.440  185.9820              Algeria          1  \n",
       "3  1514.370  100.6050               Angola          2  \n",
       "4  7185.800  735.6600  Antigua and Barbuda          1  "
      ]
     },
     "execution_count": 42,
     "metadata": {},
     "output_type": "execute_result"
    }
   ],
   "source": [
    "data4.head()"
   ]
  },
  {
   "cell_type": "markdown",
   "metadata": {},
   "source": [
    "Till now we have created the new principle components and performed the K means clustering on the base of the PCs, followed by assigning the cluster ids acheived back to the original dataset"
   ]
  },
  {
   "cell_type": "markdown",
   "metadata": {},
   "source": [
    "### Analysis of the Clusters"
   ]
  },
  {
   "cell_type": "code",
   "execution_count": 43,
   "metadata": {},
   "outputs": [
    {
     "data": {
      "text/plain": [
       "Text(0.5,1,'Plot1')"
      ]
     },
     "execution_count": 43,
     "metadata": {},
     "output_type": "execute_result"
    },
    {
     "data": {
      "image/png": "[encoded data removed]",
      "text/plain": [
       "<Figure size 432x288 with 1 Axes>"
      ]
     },
     "metadata": {},
     "output_type": "display_data"
    }
   ],
   "source": [
    "data4[['gdpp','child_mort','income', 'ClusterID']].groupby('ClusterID').mean().plot(kind = 'bar')\n",
    "plt.title(\"Plot1\")"
   ]
  },
  {
   "cell_type": "code",
   "execution_count": 44,
   "metadata": {},
   "outputs": [
    {
     "data": {
      "text/plain": [
       "Text(0.5,1,'Plot2')"
      ]
     },
     "execution_count": 44,
     "metadata": {},
     "output_type": "execute_result"
    },
    {
     "data": {
      "image/png": "[encoded data removed]",
      "text/plain": [
       "<Figure size 432x288 with 1 Axes>"
      ]
     },
     "metadata": {},
     "output_type": "display_data"
    }
   ],
   "source": [
    "data4[['child_mort', 'ClusterID']].groupby('ClusterID').mean().plot(kind = 'bar')\n",
    "plt.title(\"Plot2\")"
   ]
  },
  {
   "cell_type": "code",
   "execution_count": 45,
   "metadata": {},
   "outputs": [
    {
     "data": {
      "image/png": "[encoded data removed]",
      "text/plain": [
       "<Figure size 720x576 with 3 Axes>"
      ]
     },
     "metadata": {},
     "output_type": "display_data"
    }
   ],
   "source": [
    "var = ['gdpp','child_mort','income']\n",
    "plt.figure(figsize = (10,8))\n",
    "for i in enumerate(var):\n",
    "    plt.subplot(2,2,i[0]+1)\n",
    "    sns.boxplot(x= 'ClusterID', y = i[1] , data = data4)"
   ]
  },
  {
   "cell_type": "markdown",
   "metadata": {},
   "source": [
    "From the above plots : Plot 1 : as the Child mortality is very very less compared to the income and the gdpp we were not able to see the representation of the child mortality, so plotted the average values of the child mortality in the plot2 with respect to ClusterID\n",
    "\n",
    "This clearly explain how the clusters are divided by the K-Means Clustering:\n",
    "- Cluster 0 : These are the Rich/ High Income(/gdpp) countries with almost less than 10 children dying within the 5 years of birth. This indicates the reach of health and food facilities in the cluster 0 countries\n",
    "- Cluster 1 : These re the middle/ Avg Income(/gdpp) countries with on average 20+ children dies within the 5 years of birth. The health and food facilities could be below than that of the Rich countires \n",
    "- Cluster 2 : These are the poor countries with very low Income and very low gdpp relative to the countires in cluster 0 & 1. With the child mortality more than 80/90. these are the countries which could be having the least reach of health, snitation and food facilities"
   ]
  },
  {
   "cell_type": "code",
   "execution_count": 46,
   "metadata": {},
   "outputs": [
    {
     "data": {
      "text/html": [
       "<div>\n",
       "<style scoped>\n",
       "    .dataframe tbody tr th:only-of-type {\n",
       "        vertical-align: middle;\n",
       "    }\n",
       "\n",
       "    .dataframe tbody tr th {\n",
       "        vertical-align: top;\n",
       "    }\n",
       "\n",
       "    .dataframe thead th {\n",
       "        text-align: right;\n",
       "    }\n",
       "</style>\n",
       "<table border=\"1\" class=\"dataframe\">\n",
       "  <thead>\n",
       "    <tr style=\"text-align: right;\">\n",
       "      <th></th>\n",
       "      <th>child_mort</th>\n",
       "      <th>income</th>\n",
       "      <th>inflation</th>\n",
       "      <th>life_expec</th>\n",
       "      <th>total_fer</th>\n",
       "      <th>gdpp</th>\n",
       "      <th>Exports</th>\n",
       "      <th>Imports</th>\n",
       "      <th>Health</th>\n",
       "      <th>country</th>\n",
       "      <th>ClusterID</th>\n",
       "    </tr>\n",
       "  </thead>\n",
       "  <tbody>\n",
       "    <tr>\n",
       "      <th>26</th>\n",
       "      <td>93.6</td>\n",
       "      <td>764</td>\n",
       "      <td>12.30</td>\n",
       "      <td>57.7</td>\n",
       "      <td>6.26</td>\n",
       "      <td>231</td>\n",
       "      <td>20.6052</td>\n",
       "      <td>90.552</td>\n",
       "      <td>26.7960</td>\n",
       "      <td>Burundi</td>\n",
       "      <td>2</td>\n",
       "    </tr>\n",
       "    <tr>\n",
       "      <th>88</th>\n",
       "      <td>89.3</td>\n",
       "      <td>700</td>\n",
       "      <td>5.47</td>\n",
       "      <td>60.8</td>\n",
       "      <td>5.02</td>\n",
       "      <td>327</td>\n",
       "      <td>62.4570</td>\n",
       "      <td>302.802</td>\n",
       "      <td>38.5860</td>\n",
       "      <td>Liberia</td>\n",
       "      <td>2</td>\n",
       "    </tr>\n",
       "    <tr>\n",
       "      <th>37</th>\n",
       "      <td>116.0</td>\n",
       "      <td>609</td>\n",
       "      <td>20.80</td>\n",
       "      <td>57.5</td>\n",
       "      <td>6.54</td>\n",
       "      <td>334</td>\n",
       "      <td>137.2740</td>\n",
       "      <td>165.664</td>\n",
       "      <td>26.4194</td>\n",
       "      <td>Congo, Dem. Rep.</td>\n",
       "      <td>2</td>\n",
       "    </tr>\n",
       "    <tr>\n",
       "      <th>112</th>\n",
       "      <td>123.0</td>\n",
       "      <td>814</td>\n",
       "      <td>2.55</td>\n",
       "      <td>58.8</td>\n",
       "      <td>7.49</td>\n",
       "      <td>348</td>\n",
       "      <td>77.2560</td>\n",
       "      <td>170.868</td>\n",
       "      <td>17.9568</td>\n",
       "      <td>Niger</td>\n",
       "      <td>2</td>\n",
       "    </tr>\n",
       "    <tr>\n",
       "      <th>132</th>\n",
       "      <td>160.0</td>\n",
       "      <td>1220</td>\n",
       "      <td>17.20</td>\n",
       "      <td>55.0</td>\n",
       "      <td>5.20</td>\n",
       "      <td>399</td>\n",
       "      <td>67.0320</td>\n",
       "      <td>137.655</td>\n",
       "      <td>52.2690</td>\n",
       "      <td>Sierra Leone</td>\n",
       "      <td>2</td>\n",
       "    </tr>\n",
       "    <tr>\n",
       "      <th>93</th>\n",
       "      <td>62.2</td>\n",
       "      <td>1390</td>\n",
       "      <td>8.79</td>\n",
       "      <td>60.8</td>\n",
       "      <td>4.60</td>\n",
       "      <td>413</td>\n",
       "      <td>103.2500</td>\n",
       "      <td>177.590</td>\n",
       "      <td>15.5701</td>\n",
       "      <td>Madagascar</td>\n",
       "      <td>2</td>\n",
       "    </tr>\n",
       "    <tr>\n",
       "      <th>106</th>\n",
       "      <td>101.0</td>\n",
       "      <td>918</td>\n",
       "      <td>7.64</td>\n",
       "      <td>54.5</td>\n",
       "      <td>5.56</td>\n",
       "      <td>419</td>\n",
       "      <td>131.9850</td>\n",
       "      <td>193.578</td>\n",
       "      <td>21.8299</td>\n",
       "      <td>Mozambique</td>\n",
       "      <td>2</td>\n",
       "    </tr>\n",
       "    <tr>\n",
       "      <th>31</th>\n",
       "      <td>149.0</td>\n",
       "      <td>888</td>\n",
       "      <td>2.01</td>\n",
       "      <td>47.5</td>\n",
       "      <td>5.21</td>\n",
       "      <td>446</td>\n",
       "      <td>52.6280</td>\n",
       "      <td>118.190</td>\n",
       "      <td>17.7508</td>\n",
       "      <td>Central African Republic</td>\n",
       "      <td>2</td>\n",
       "    </tr>\n",
       "    <tr>\n",
       "      <th>94</th>\n",
       "      <td>90.5</td>\n",
       "      <td>1030</td>\n",
       "      <td>12.10</td>\n",
       "      <td>53.1</td>\n",
       "      <td>5.31</td>\n",
       "      <td>459</td>\n",
       "      <td>104.6520</td>\n",
       "      <td>160.191</td>\n",
       "      <td>30.2481</td>\n",
       "      <td>Malawi</td>\n",
       "      <td>2</td>\n",
       "    </tr>\n",
       "    <tr>\n",
       "      <th>50</th>\n",
       "      <td>55.2</td>\n",
       "      <td>1420</td>\n",
       "      <td>11.60</td>\n",
       "      <td>61.7</td>\n",
       "      <td>4.61</td>\n",
       "      <td>482</td>\n",
       "      <td>23.0878</td>\n",
       "      <td>112.306</td>\n",
       "      <td>12.8212</td>\n",
       "      <td>Eritrea</td>\n",
       "      <td>2</td>\n",
       "    </tr>\n",
       "  </tbody>\n",
       "</table>\n",
       "</div>"
      ],
      "text/plain": [
       "     child_mort  income  inflation  life_expec  total_fer  gdpp   Exports  \\\n",
       "26         93.6     764      12.30        57.7       6.26   231   20.6052   \n",
       "88         89.3     700       5.47        60.8       5.02   327   62.4570   \n",
       "37        116.0     609      20.80        57.5       6.54   334  137.2740   \n",
       "112       123.0     814       2.55        58.8       7.49   348   77.2560   \n",
       "132       160.0    1220      17.20        55.0       5.20   399   67.0320   \n",
       "93         62.2    1390       8.79        60.8       4.60   413  103.2500   \n",
       "106       101.0     918       7.64        54.5       5.56   419  131.9850   \n",
       "31        149.0     888       2.01        47.5       5.21   446   52.6280   \n",
       "94         90.5    1030      12.10        53.1       5.31   459  104.6520   \n",
       "50         55.2    1420      11.60        61.7       4.61   482   23.0878   \n",
       "\n",
       "     Imports   Health                   country  ClusterID  \n",
       "26    90.552  26.7960                   Burundi          2  \n",
       "88   302.802  38.5860                   Liberia          2  \n",
       "37   165.664  26.4194          Congo, Dem. Rep.          2  \n",
       "112  170.868  17.9568                     Niger          2  \n",
       "132  137.655  52.2690              Sierra Leone          2  \n",
       "93   177.590  15.5701                Madagascar          2  \n",
       "106  193.578  21.8299                Mozambique          2  \n",
       "31   118.190  17.7508  Central African Republic          2  \n",
       "94   160.191  30.2481                    Malawi          2  \n",
       "50   112.306  12.8212                   Eritrea          2  "
      ]
     },
     "execution_count": 46,
     "metadata": {},
     "output_type": "execute_result"
    }
   ],
   "source": [
    "#So the name of the countries which are belonging the to the cluster 2 are: Total of 48 Countries\n",
    "\n",
    "data4[data4['ClusterID'] ==2].sort_values(by = [ 'gdpp','child_mort','income', 'Health'], ascending = [True, False, True, True]).head(10)"
   ]
  },
  {
   "cell_type": "markdown",
   "metadata": {},
   "source": [
    "Above we have made a list of the countries whcih fall under the Cluster 2(poor countries) which are in dier need of the Aid from NGOs. \n",
    "- List is curated as per the socio economic condition adn the Health Spend of the coutries\n",
    "\n",
    "we have top 10 countries which are having least gdpp, most child mortality rates and least income countries whcih we our NGO can focus on.\n",
    "Countries:\n",
    "-   Burundi,\n",
    "-   Liberia,\n",
    "-   Congo, Dem. Rep.,\n",
    "-   Niger,\n",
    "-   Sierra Leone,\n",
    "-   Madagascar,\n",
    "-   Mozambique,\n",
    "-   Central African Republic,\n",
    "-   Malawi,\n",
    "-   Eritrea"
   ]
  },
  {
   "cell_type": "markdown",
   "metadata": {},
   "source": [
    "## Heirarchial Clustering"
   ]
  },
  {
   "cell_type": "code",
   "execution_count": 47,
   "metadata": {},
   "outputs": [
    {
     "data": {
      "text/html": [
       "<div>\n",
       "<style scoped>\n",
       "    .dataframe tbody tr th:only-of-type {\n",
       "        vertical-align: middle;\n",
       "    }\n",
       "\n",
       "    .dataframe tbody tr th {\n",
       "        vertical-align: top;\n",
       "    }\n",
       "\n",
       "    .dataframe thead th {\n",
       "        text-align: right;\n",
       "    }\n",
       "</style>\n",
       "<table border=\"1\" class=\"dataframe\">\n",
       "  <thead>\n",
       "    <tr style=\"text-align: right;\">\n",
       "      <th></th>\n",
       "      <th>PC1</th>\n",
       "      <th>PC2</th>\n",
       "      <th>PC3</th>\n",
       "    </tr>\n",
       "  </thead>\n",
       "  <tbody>\n",
       "    <tr>\n",
       "      <th>0</th>\n",
       "      <td>-2.637442</td>\n",
       "      <td>1.469038</td>\n",
       "      <td>-0.541359</td>\n",
       "    </tr>\n",
       "    <tr>\n",
       "      <th>1</th>\n",
       "      <td>-0.022277</td>\n",
       "      <td>-1.431896</td>\n",
       "      <td>-0.020701</td>\n",
       "    </tr>\n",
       "    <tr>\n",
       "      <th>2</th>\n",
       "      <td>-0.457626</td>\n",
       "      <td>-0.673301</td>\n",
       "      <td>0.961867</td>\n",
       "    </tr>\n",
       "    <tr>\n",
       "      <th>3</th>\n",
       "      <td>-2.724520</td>\n",
       "      <td>2.174583</td>\n",
       "      <td>0.606687</td>\n",
       "    </tr>\n",
       "    <tr>\n",
       "      <th>4</th>\n",
       "      <td>0.649849</td>\n",
       "      <td>-1.024374</td>\n",
       "      <td>-0.250103</td>\n",
       "    </tr>\n",
       "  </tbody>\n",
       "</table>\n",
       "</div>"
      ],
      "text/plain": [
       "        PC1       PC2       PC3\n",
       "0 -2.637442  1.469038 -0.541359\n",
       "1 -0.022277 -1.431896 -0.020701\n",
       "2 -0.457626 -0.673301  0.961867\n",
       "3 -2.724520  2.174583  0.606687\n",
       "4  0.649849 -1.024374 -0.250103"
      ]
     },
     "execution_count": 47,
     "metadata": {},
     "output_type": "execute_result"
    }
   ],
   "source": [
    "data3.head()"
   ]
  },
  {
   "cell_type": "code",
   "execution_count": 48,
   "metadata": {},
   "outputs": [
    {
     "data": {
      "text/html": [
       "<div>\n",
       "<style scoped>\n",
       "    .dataframe tbody tr th:only-of-type {\n",
       "        vertical-align: middle;\n",
       "    }\n",
       "\n",
       "    .dataframe tbody tr th {\n",
       "        vertical-align: top;\n",
       "    }\n",
       "\n",
       "    .dataframe thead th {\n",
       "        text-align: right;\n",
       "    }\n",
       "</style>\n",
       "<table border=\"1\" class=\"dataframe\">\n",
       "  <thead>\n",
       "    <tr style=\"text-align: right;\">\n",
       "      <th></th>\n",
       "      <th>child_mort</th>\n",
       "      <th>income</th>\n",
       "      <th>inflation</th>\n",
       "      <th>life_expec</th>\n",
       "      <th>total_fer</th>\n",
       "      <th>gdpp</th>\n",
       "      <th>Exports</th>\n",
       "      <th>Imports</th>\n",
       "      <th>Health</th>\n",
       "      <th>country</th>\n",
       "      <th>ClusterID</th>\n",
       "    </tr>\n",
       "  </thead>\n",
       "  <tbody>\n",
       "    <tr>\n",
       "      <th>0</th>\n",
       "      <td>90.2</td>\n",
       "      <td>1610</td>\n",
       "      <td>9.44</td>\n",
       "      <td>56.2</td>\n",
       "      <td>5.82</td>\n",
       "      <td>553</td>\n",
       "      <td>55.30</td>\n",
       "      <td>248.297</td>\n",
       "      <td>41.9174</td>\n",
       "      <td>Afghanistan</td>\n",
       "      <td>2</td>\n",
       "    </tr>\n",
       "    <tr>\n",
       "      <th>1</th>\n",
       "      <td>16.6</td>\n",
       "      <td>9930</td>\n",
       "      <td>4.49</td>\n",
       "      <td>76.3</td>\n",
       "      <td>1.65</td>\n",
       "      <td>4090</td>\n",
       "      <td>1145.20</td>\n",
       "      <td>1987.740</td>\n",
       "      <td>267.8950</td>\n",
       "      <td>Albania</td>\n",
       "      <td>1</td>\n",
       "    </tr>\n",
       "    <tr>\n",
       "      <th>2</th>\n",
       "      <td>27.3</td>\n",
       "      <td>12900</td>\n",
       "      <td>16.10</td>\n",
       "      <td>76.5</td>\n",
       "      <td>2.89</td>\n",
       "      <td>4460</td>\n",
       "      <td>1712.64</td>\n",
       "      <td>1400.440</td>\n",
       "      <td>185.9820</td>\n",
       "      <td>Algeria</td>\n",
       "      <td>1</td>\n",
       "    </tr>\n",
       "    <tr>\n",
       "      <th>3</th>\n",
       "      <td>119.0</td>\n",
       "      <td>5900</td>\n",
       "      <td>22.40</td>\n",
       "      <td>60.1</td>\n",
       "      <td>6.16</td>\n",
       "      <td>3530</td>\n",
       "      <td>2199.19</td>\n",
       "      <td>1514.370</td>\n",
       "      <td>100.6050</td>\n",
       "      <td>Angola</td>\n",
       "      <td>2</td>\n",
       "    </tr>\n",
       "    <tr>\n",
       "      <th>4</th>\n",
       "      <td>10.3</td>\n",
       "      <td>19100</td>\n",
       "      <td>1.44</td>\n",
       "      <td>76.8</td>\n",
       "      <td>2.13</td>\n",
       "      <td>12200</td>\n",
       "      <td>5551.00</td>\n",
       "      <td>7185.800</td>\n",
       "      <td>735.6600</td>\n",
       "      <td>Antigua and Barbuda</td>\n",
       "      <td>1</td>\n",
       "    </tr>\n",
       "  </tbody>\n",
       "</table>\n",
       "</div>"
      ],
      "text/plain": [
       "   child_mort  income  inflation  life_expec  total_fer   gdpp  Exports  \\\n",
       "0        90.2    1610       9.44        56.2       5.82    553    55.30   \n",
       "1        16.6    9930       4.49        76.3       1.65   4090  1145.20   \n",
       "2        27.3   12900      16.10        76.5       2.89   4460  1712.64   \n",
       "3       119.0    5900      22.40        60.1       6.16   3530  2199.19   \n",
       "4        10.3   19100       1.44        76.8       2.13  12200  5551.00   \n",
       "\n",
       "    Imports    Health              country  ClusterID  \n",
       "0   248.297   41.9174          Afghanistan          2  \n",
       "1  1987.740  267.8950              Albania          1  \n",
       "2  1400.440  185.9820              Algeria          1  \n",
       "3  1514.370  100.6050               Angola          2  \n",
       "4  7185.800  735.6600  Antigua and Barbuda          1  "
      ]
     },
     "execution_count": 48,
     "metadata": {},
     "output_type": "execute_result"
    }
   ],
   "source": [
    "data4.head()"
   ]
  },
  {
   "cell_type": "code",
   "execution_count": 49,
   "metadata": {},
   "outputs": [],
   "source": [
    "#Single linkage\n",
    "mergings = linkage(data3, method = \"single\", metric = 'euclidean')"
   ]
  },
  {
   "cell_type": "code",
   "execution_count": 50,
   "metadata": {},
   "outputs": [
    {
     "data": {
      "image/png": "[encoded data removed]",
      "text/plain": [
       "<Figure size 432x288 with 1 Axes>"
      ]
     },
     "metadata": {},
     "output_type": "display_data"
    }
   ],
   "source": [
    "dendrogram(mergings)\n",
    "plt.show()"
   ]
  },
  {
   "cell_type": "markdown",
   "metadata": {},
   "source": [
    "This absolutely is not readable and lets try with the complete linkage"
   ]
  },
  {
   "cell_type": "code",
   "execution_count": 51,
   "metadata": {},
   "outputs": [
    {
     "data": {
      "image/png": "[encoded data removed]",
      "text/plain": [
       "<Figure size 432x288 with 1 Axes>"
      ]
     },
     "metadata": {},
     "output_type": "display_data"
    }
   ],
   "source": [
    "#complete linkage\n",
    "mergings = linkage(data3, method = \"complete\", metric = 'euclidean')\n",
    "dendrogram(mergings)\n",
    "plt.show()"
   ]
  },
  {
   "cell_type": "markdown",
   "metadata": {},
   "source": [
    "After the 5 iterations it is found that the optimal number of clusters being observed in the Hierarchial Clustering is 5 and it is representing the countries into meaningfull cluster from 5 clusters with some decent number of countries into every cluster"
   ]
  },
  {
   "cell_type": "code",
   "execution_count": 52,
   "metadata": {},
   "outputs": [
    {
     "data": {
      "text/plain": [
       "array([0, 1, 1, 0, 1, 1, 1, 1, 2, 1, 1, 1, 1, 1, 1, 2, 1, 0, 1, 1, 1, 0,\n",
       "       1, 1, 1, 0, 0, 1, 0, 1, 1, 0, 0, 1, 1, 1, 0, 0, 0, 1, 0, 1, 1, 1,\n",
       "       2, 1, 1, 1, 1, 0, 0, 1, 1, 1, 1, 0, 0, 1, 1, 0, 1, 1, 1, 0, 0, 1,\n",
       "       0, 1, 1, 1, 1, 1, 0, 2, 1, 1, 1, 1, 1, 1, 0, 0, 1, 1, 0, 1, 1, 0,\n",
       "       0, 1, 1, 3, 1, 0, 0, 1, 1, 0, 1, 0, 1, 1, 1, 1, 1, 1, 0, 1, 0, 1,\n",
       "       2, 1, 0, 4, 2, 1, 0, 1, 1, 1, 1, 1, 1, 2, 1, 1, 0, 1, 1, 0, 1, 1,\n",
       "       0, 2, 1, 1, 0, 0, 1, 1, 1, 1, 0, 1, 2, 2, 1, 0, 1, 0, 0, 1, 1, 1,\n",
       "       1, 0, 1, 1, 1, 2, 1, 1, 1, 1, 1, 0, 0])"
      ]
     },
     "execution_count": 52,
     "metadata": {},
     "output_type": "execute_result"
    }
   ],
   "source": [
    "# 5 clusters\n",
    "cluster_labels = cut_tree(mergings, n_clusters=5).reshape(-1, )\n",
    "cluster_labels"
   ]
  },
  {
   "cell_type": "code",
   "execution_count": 53,
   "metadata": {},
   "outputs": [
    {
     "data": {
      "text/html": [
       "<div>\n",
       "<style scoped>\n",
       "    .dataframe tbody tr th:only-of-type {\n",
       "        vertical-align: middle;\n",
       "    }\n",
       "\n",
       "    .dataframe tbody tr th {\n",
       "        vertical-align: top;\n",
       "    }\n",
       "\n",
       "    .dataframe thead th {\n",
       "        text-align: right;\n",
       "    }\n",
       "</style>\n",
       "<table border=\"1\" class=\"dataframe\">\n",
       "  <thead>\n",
       "    <tr style=\"text-align: right;\">\n",
       "      <th></th>\n",
       "      <th>child_mort</th>\n",
       "      <th>income</th>\n",
       "      <th>inflation</th>\n",
       "      <th>life_expec</th>\n",
       "      <th>total_fer</th>\n",
       "      <th>gdpp</th>\n",
       "      <th>Exports</th>\n",
       "      <th>Imports</th>\n",
       "      <th>Health</th>\n",
       "      <th>country</th>\n",
       "      <th>ClusterID</th>\n",
       "      <th>cluster_labels_heirarchial</th>\n",
       "    </tr>\n",
       "  </thead>\n",
       "  <tbody>\n",
       "    <tr>\n",
       "      <th>0</th>\n",
       "      <td>90.2</td>\n",
       "      <td>1610</td>\n",
       "      <td>9.44</td>\n",
       "      <td>56.2</td>\n",
       "      <td>5.82</td>\n",
       "      <td>553</td>\n",
       "      <td>55.30</td>\n",
       "      <td>248.297</td>\n",
       "      <td>41.9174</td>\n",
       "      <td>Afghanistan</td>\n",
       "      <td>2</td>\n",
       "      <td>0</td>\n",
       "    </tr>\n",
       "    <tr>\n",
       "      <th>1</th>\n",
       "      <td>16.6</td>\n",
       "      <td>9930</td>\n",
       "      <td>4.49</td>\n",
       "      <td>76.3</td>\n",
       "      <td>1.65</td>\n",
       "      <td>4090</td>\n",
       "      <td>1145.20</td>\n",
       "      <td>1987.740</td>\n",
       "      <td>267.8950</td>\n",
       "      <td>Albania</td>\n",
       "      <td>1</td>\n",
       "      <td>1</td>\n",
       "    </tr>\n",
       "    <tr>\n",
       "      <th>2</th>\n",
       "      <td>27.3</td>\n",
       "      <td>12900</td>\n",
       "      <td>16.10</td>\n",
       "      <td>76.5</td>\n",
       "      <td>2.89</td>\n",
       "      <td>4460</td>\n",
       "      <td>1712.64</td>\n",
       "      <td>1400.440</td>\n",
       "      <td>185.9820</td>\n",
       "      <td>Algeria</td>\n",
       "      <td>1</td>\n",
       "      <td>1</td>\n",
       "    </tr>\n",
       "    <tr>\n",
       "      <th>3</th>\n",
       "      <td>119.0</td>\n",
       "      <td>5900</td>\n",
       "      <td>22.40</td>\n",
       "      <td>60.1</td>\n",
       "      <td>6.16</td>\n",
       "      <td>3530</td>\n",
       "      <td>2199.19</td>\n",
       "      <td>1514.370</td>\n",
       "      <td>100.6050</td>\n",
       "      <td>Angola</td>\n",
       "      <td>2</td>\n",
       "      <td>0</td>\n",
       "    </tr>\n",
       "    <tr>\n",
       "      <th>4</th>\n",
       "      <td>10.3</td>\n",
       "      <td>19100</td>\n",
       "      <td>1.44</td>\n",
       "      <td>76.8</td>\n",
       "      <td>2.13</td>\n",
       "      <td>12200</td>\n",
       "      <td>5551.00</td>\n",
       "      <td>7185.800</td>\n",
       "      <td>735.6600</td>\n",
       "      <td>Antigua and Barbuda</td>\n",
       "      <td>1</td>\n",
       "      <td>1</td>\n",
       "    </tr>\n",
       "  </tbody>\n",
       "</table>\n",
       "</div>"
      ],
      "text/plain": [
       "   child_mort  income  inflation  life_expec  total_fer   gdpp  Exports  \\\n",
       "0        90.2    1610       9.44        56.2       5.82    553    55.30   \n",
       "1        16.6    9930       4.49        76.3       1.65   4090  1145.20   \n",
       "2        27.3   12900      16.10        76.5       2.89   4460  1712.64   \n",
       "3       119.0    5900      22.40        60.1       6.16   3530  2199.19   \n",
       "4        10.3   19100       1.44        76.8       2.13  12200  5551.00   \n",
       "\n",
       "    Imports    Health              country  ClusterID  \\\n",
       "0   248.297   41.9174          Afghanistan          2   \n",
       "1  1987.740  267.8950              Albania          1   \n",
       "2  1400.440  185.9820              Algeria          1   \n",
       "3  1514.370  100.6050               Angola          2   \n",
       "4  7185.800  735.6600  Antigua and Barbuda          1   \n",
       "\n",
       "   cluster_labels_heirarchial  \n",
       "0                           0  \n",
       "1                           1  \n",
       "2                           1  \n",
       "3                           0  \n",
       "4                           1  "
      ]
     },
     "execution_count": 53,
     "metadata": {},
     "output_type": "execute_result"
    }
   ],
   "source": [
    "# assign cluster labels\n",
    "data4['cluster_labels_heirarchial'] = cluster_labels\n",
    "data4.head()"
   ]
  },
  {
   "cell_type": "code",
   "execution_count": 54,
   "metadata": {},
   "outputs": [
    {
     "data": {
      "text/plain": [
       "<matplotlib.axes._subplots.AxesSubplot at 0x1d04272bf60>"
      ]
     },
     "execution_count": 54,
     "metadata": {},
     "output_type": "execute_result"
    },
    {
     "data": {
      "image/png": "[encoded data removed]",
      "text/plain": [
       "<Figure size 432x288 with 1 Axes>"
      ]
     },
     "metadata": {},
     "output_type": "display_data"
    }
   ],
   "source": [
    "# Check the count of observation per cluster\n",
    "data4['cluster_labels_heirarchial'].value_counts().plot(kind ='bar')"
   ]
  },
  {
   "cell_type": "code",
   "execution_count": 55,
   "metadata": {
    "scrolled": false
   },
   "outputs": [
    {
     "data": {
      "text/plain": [
       "<seaborn.axisgrid.PairGrid at 0x1d04272b550>"
      ]
     },
     "execution_count": 55,
     "metadata": {},
     "output_type": "execute_result"
    },
    {
     "data": {
      "image/png": "[encoded data removed]",
      "text/plain": [
       "<Figure size 414.125x360 with 1 Axes>"
      ]
     },
     "metadata": {},
     "output_type": "display_data"
    }
   ],
   "source": [
    "# Plot the Cluster with respect to the clusters obtained on Child_mort vs. income\n",
    "sns.pairplot(data = data4, x_vars= [\"child_mort\"], y_vars= [\"income\"], hue = \"ClusterID\", size = 5)"
   ]
  },
  {
   "cell_type": "code",
   "execution_count": 56,
   "metadata": {},
   "outputs": [
    {
     "data": {
      "text/plain": [
       "1    107\n",
       "0     47\n",
       "2     11\n",
       "4      1\n",
       "3      1\n",
       "Name: cluster_labels_heirarchial, dtype: int64"
      ]
     },
     "execution_count": 56,
     "metadata": {},
     "output_type": "execute_result"
    }
   ],
   "source": [
    "# To find out how countries are clusterd as:\n",
    "data4['cluster_labels_heirarchial'].value_counts()"
   ]
  },
  {
   "cell_type": "code",
   "execution_count": 57,
   "metadata": {},
   "outputs": [
    {
     "data": {
      "text/plain": [
       "Text(0.5,1,'Plot1')"
      ]
     },
     "execution_count": 57,
     "metadata": {},
     "output_type": "execute_result"
    },
    {
     "data": {
      "image/png": "[encoded data removed]",
      "text/plain": [
       "<Figure size 432x288 with 1 Axes>"
      ]
     },
     "metadata": {},
     "output_type": "display_data"
    }
   ],
   "source": [
    "data4[['gdpp','child_mort','income', 'cluster_labels_heirarchial']].groupby('cluster_labels_heirarchial').mean().plot(kind = 'bar')\n",
    "plt.title(\"Plot1\")"
   ]
  },
  {
   "cell_type": "code",
   "execution_count": 58,
   "metadata": {},
   "outputs": [
    {
     "data": {
      "text/plain": [
       "Text(0.5,1,'Plot2')"
      ]
     },
     "execution_count": 58,
     "metadata": {},
     "output_type": "execute_result"
    },
    {
     "data": {
      "image/png": "[encoded data removed]",
      "text/plain": [
       "<Figure size 432x288 with 1 Axes>"
      ]
     },
     "metadata": {},
     "output_type": "display_data"
    }
   ],
   "source": [
    "data4[['child_mort','cluster_labels_heirarchial']].groupby('cluster_labels_heirarchial').mean().plot(kind = 'bar')\n",
    "plt.title(\"Plot2\")"
   ]
  },
  {
   "cell_type": "code",
   "execution_count": 59,
   "metadata": {},
   "outputs": [
    {
     "data": {
      "image/png": "[encoded data removed]",
      "text/plain": [
       "<Figure size 720x576 with 3 Axes>"
      ]
     },
     "metadata": {},
     "output_type": "display_data"
    }
   ],
   "source": [
    "var = ['gdpp','child_mort','income']\n",
    "plt.figure(figsize = (10,8))\n",
    "for i in enumerate(var):\n",
    "    plt.subplot(2,2,i[0]+1)\n",
    "    sns.boxplot(x= 'cluster_labels_heirarchial', y = i[1] , data = data4)"
   ]
  },
  {
   "cell_type": "markdown",
   "metadata": {},
   "source": [
    "### Inferences from Heirarchial Clustering:\n",
    "We have clustered the data into 5 clusters, here are the observartions from the clusters\n",
    "- The Clusters 0 and 4 are having the least income and gdpp, relatively high child mortality \n",
    "- The Clusters 2 and 3 are having the better income and gdpp and relatively low child mortality\n",
    "- The cluster 1 looks like mostly the middle income, gdpp and considerable child mortality countries\n",
    "\n",
    "NGO can focus on the cluster 0 and 4."
   ]
  },
  {
   "cell_type": "markdown",
   "metadata": {},
   "source": [
    "#### Cluster Profiling based on the Hierarchial clustering"
   ]
  },
  {
   "cell_type": "code",
   "execution_count": 60,
   "metadata": {
    "scrolled": true
   },
   "outputs": [
    {
     "data": {
      "text/html": [
       "<div>\n",
       "<style scoped>\n",
       "    .dataframe tbody tr th:only-of-type {\n",
       "        vertical-align: middle;\n",
       "    }\n",
       "\n",
       "    .dataframe tbody tr th {\n",
       "        vertical-align: top;\n",
       "    }\n",
       "\n",
       "    .dataframe thead th {\n",
       "        text-align: right;\n",
       "    }\n",
       "</style>\n",
       "<table border=\"1\" class=\"dataframe\">\n",
       "  <thead>\n",
       "    <tr style=\"text-align: right;\">\n",
       "      <th></th>\n",
       "      <th>child_mort</th>\n",
       "      <th>income</th>\n",
       "      <th>inflation</th>\n",
       "      <th>life_expec</th>\n",
       "      <th>total_fer</th>\n",
       "      <th>gdpp</th>\n",
       "      <th>Exports</th>\n",
       "      <th>Imports</th>\n",
       "      <th>Health</th>\n",
       "      <th>country</th>\n",
       "      <th>ClusterID</th>\n",
       "      <th>cluster_labels_heirarchial</th>\n",
       "    </tr>\n",
       "  </thead>\n",
       "  <tbody>\n",
       "    <tr>\n",
       "      <th>26</th>\n",
       "      <td>93.6</td>\n",
       "      <td>764</td>\n",
       "      <td>12.30</td>\n",
       "      <td>57.7</td>\n",
       "      <td>6.26</td>\n",
       "      <td>231</td>\n",
       "      <td>20.6052</td>\n",
       "      <td>90.552</td>\n",
       "      <td>26.7960</td>\n",
       "      <td>Burundi</td>\n",
       "      <td>2</td>\n",
       "      <td>0</td>\n",
       "    </tr>\n",
       "    <tr>\n",
       "      <th>88</th>\n",
       "      <td>89.3</td>\n",
       "      <td>700</td>\n",
       "      <td>5.47</td>\n",
       "      <td>60.8</td>\n",
       "      <td>5.02</td>\n",
       "      <td>327</td>\n",
       "      <td>62.4570</td>\n",
       "      <td>302.802</td>\n",
       "      <td>38.5860</td>\n",
       "      <td>Liberia</td>\n",
       "      <td>2</td>\n",
       "      <td>0</td>\n",
       "    </tr>\n",
       "    <tr>\n",
       "      <th>37</th>\n",
       "      <td>116.0</td>\n",
       "      <td>609</td>\n",
       "      <td>20.80</td>\n",
       "      <td>57.5</td>\n",
       "      <td>6.54</td>\n",
       "      <td>334</td>\n",
       "      <td>137.2740</td>\n",
       "      <td>165.664</td>\n",
       "      <td>26.4194</td>\n",
       "      <td>Congo, Dem. Rep.</td>\n",
       "      <td>2</td>\n",
       "      <td>0</td>\n",
       "    </tr>\n",
       "    <tr>\n",
       "      <th>112</th>\n",
       "      <td>123.0</td>\n",
       "      <td>814</td>\n",
       "      <td>2.55</td>\n",
       "      <td>58.8</td>\n",
       "      <td>7.49</td>\n",
       "      <td>348</td>\n",
       "      <td>77.2560</td>\n",
       "      <td>170.868</td>\n",
       "      <td>17.9568</td>\n",
       "      <td>Niger</td>\n",
       "      <td>2</td>\n",
       "      <td>0</td>\n",
       "    </tr>\n",
       "    <tr>\n",
       "      <th>132</th>\n",
       "      <td>160.0</td>\n",
       "      <td>1220</td>\n",
       "      <td>17.20</td>\n",
       "      <td>55.0</td>\n",
       "      <td>5.20</td>\n",
       "      <td>399</td>\n",
       "      <td>67.0320</td>\n",
       "      <td>137.655</td>\n",
       "      <td>52.2690</td>\n",
       "      <td>Sierra Leone</td>\n",
       "      <td>2</td>\n",
       "      <td>0</td>\n",
       "    </tr>\n",
       "    <tr>\n",
       "      <th>93</th>\n",
       "      <td>62.2</td>\n",
       "      <td>1390</td>\n",
       "      <td>8.79</td>\n",
       "      <td>60.8</td>\n",
       "      <td>4.60</td>\n",
       "      <td>413</td>\n",
       "      <td>103.2500</td>\n",
       "      <td>177.590</td>\n",
       "      <td>15.5701</td>\n",
       "      <td>Madagascar</td>\n",
       "      <td>2</td>\n",
       "      <td>0</td>\n",
       "    </tr>\n",
       "    <tr>\n",
       "      <th>106</th>\n",
       "      <td>101.0</td>\n",
       "      <td>918</td>\n",
       "      <td>7.64</td>\n",
       "      <td>54.5</td>\n",
       "      <td>5.56</td>\n",
       "      <td>419</td>\n",
       "      <td>131.9850</td>\n",
       "      <td>193.578</td>\n",
       "      <td>21.8299</td>\n",
       "      <td>Mozambique</td>\n",
       "      <td>2</td>\n",
       "      <td>0</td>\n",
       "    </tr>\n",
       "    <tr>\n",
       "      <th>31</th>\n",
       "      <td>149.0</td>\n",
       "      <td>888</td>\n",
       "      <td>2.01</td>\n",
       "      <td>47.5</td>\n",
       "      <td>5.21</td>\n",
       "      <td>446</td>\n",
       "      <td>52.6280</td>\n",
       "      <td>118.190</td>\n",
       "      <td>17.7508</td>\n",
       "      <td>Central African Republic</td>\n",
       "      <td>2</td>\n",
       "      <td>0</td>\n",
       "    </tr>\n",
       "    <tr>\n",
       "      <th>94</th>\n",
       "      <td>90.5</td>\n",
       "      <td>1030</td>\n",
       "      <td>12.10</td>\n",
       "      <td>53.1</td>\n",
       "      <td>5.31</td>\n",
       "      <td>459</td>\n",
       "      <td>104.6520</td>\n",
       "      <td>160.191</td>\n",
       "      <td>30.2481</td>\n",
       "      <td>Malawi</td>\n",
       "      <td>2</td>\n",
       "      <td>0</td>\n",
       "    </tr>\n",
       "    <tr>\n",
       "      <th>50</th>\n",
       "      <td>55.2</td>\n",
       "      <td>1420</td>\n",
       "      <td>11.60</td>\n",
       "      <td>61.7</td>\n",
       "      <td>4.61</td>\n",
       "      <td>482</td>\n",
       "      <td>23.0878</td>\n",
       "      <td>112.306</td>\n",
       "      <td>12.8212</td>\n",
       "      <td>Eritrea</td>\n",
       "      <td>2</td>\n",
       "      <td>0</td>\n",
       "    </tr>\n",
       "  </tbody>\n",
       "</table>\n",
       "</div>"
      ],
      "text/plain": [
       "     child_mort  income  inflation  life_expec  total_fer  gdpp   Exports  \\\n",
       "26         93.6     764      12.30        57.7       6.26   231   20.6052   \n",
       "88         89.3     700       5.47        60.8       5.02   327   62.4570   \n",
       "37        116.0     609      20.80        57.5       6.54   334  137.2740   \n",
       "112       123.0     814       2.55        58.8       7.49   348   77.2560   \n",
       "132       160.0    1220      17.20        55.0       5.20   399   67.0320   \n",
       "93         62.2    1390       8.79        60.8       4.60   413  103.2500   \n",
       "106       101.0     918       7.64        54.5       5.56   419  131.9850   \n",
       "31        149.0     888       2.01        47.5       5.21   446   52.6280   \n",
       "94         90.5    1030      12.10        53.1       5.31   459  104.6520   \n",
       "50         55.2    1420      11.60        61.7       4.61   482   23.0878   \n",
       "\n",
       "     Imports   Health                   country  ClusterID  \\\n",
       "26    90.552  26.7960                   Burundi          2   \n",
       "88   302.802  38.5860                   Liberia          2   \n",
       "37   165.664  26.4194          Congo, Dem. Rep.          2   \n",
       "112  170.868  17.9568                     Niger          2   \n",
       "132  137.655  52.2690              Sierra Leone          2   \n",
       "93   177.590  15.5701                Madagascar          2   \n",
       "106  193.578  21.8299                Mozambique          2   \n",
       "31   118.190  17.7508  Central African Republic          2   \n",
       "94   160.191  30.2481                    Malawi          2   \n",
       "50   112.306  12.8212                   Eritrea          2   \n",
       "\n",
       "     cluster_labels_heirarchial  \n",
       "26                            0  \n",
       "88                            0  \n",
       "37                            0  \n",
       "112                           0  \n",
       "132                           0  \n",
       "93                            0  \n",
       "106                           0  \n",
       "31                            0  \n",
       "94                            0  \n",
       "50                            0  "
      ]
     },
     "execution_count": 60,
     "metadata": {},
     "output_type": "execute_result"
    }
   ],
   "source": [
    "filter1 = data4['cluster_labels_heirarchial'] ==4\n",
    "filter2 = data4['cluster_labels_heirarchial'] ==0\n",
    "\n",
    "data4[filter1 | filter2].sort_values(by = [ 'gdpp','child_mort','income', 'Health'], ascending = [True, False, True, True]).head(10)"
   ]
  },
  {
   "cell_type": "markdown",
   "metadata": {},
   "source": [
    "### Inferences:\n",
    "If we observe one thing here all the top 10 countries we have decided that NGO should focus on based on the K-Means Clustering are also present in the Heirarchial Clustering cluster also(all in cluster 0). Here are the list of the countires for reference again:\n",
    "\n",
    "-   Burundi,\n",
    "-   Liberia,\n",
    "-   Congo, Dem. Rep.,\n",
    "-   Niger,\n",
    "-   Sierra Leone,\n",
    "-   Madagascar,\n",
    "-   Mozambique,\n",
    "-   Central African Republic,\n",
    "-   Malawi,\n",
    "-   Eritrea"
   ]
  },
  {
   "cell_type": "code",
   "execution_count": null,
   "metadata": {},
   "outputs": [],
   "source": []
  }
 ],
 "metadata": {
  "kernelspec": {
   "display_name": "Python 3",
   "language": "python",
   "name": "python3"
  },
  "language_info": {
   "codemirror_mode": {
    "name": "ipython",
    "version": 3
   },
   "file_extension": ".py",
   "mimetype": "text/x-python",
   "name": "python",
   "nbconvert_exporter": "python",
   "pygments_lexer": "ipython3",
   "version": "3.6.5"
  }
 },
 "nbformat": 4,
 "nbformat_minor": 2
}
